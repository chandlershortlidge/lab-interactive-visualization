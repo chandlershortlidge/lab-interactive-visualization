{
 "cells": [
  {
   "cell_type": "markdown",
   "metadata": {},
   "source": [
    "# Interactive Visualization Lab\n",
    "\n",
    "Complete the following set of exercises to solidify your knowledge of interactive visualization using Plotly, Cufflinks, and IPyWidgets."
   ]
  },
  {
   "cell_type": "code",
   "execution_count": 20,
   "metadata": {},
   "outputs": [
    {
     "data": {
      "text/html": [
       "        <script type=\"text/javascript\">\n",
       "        window.PlotlyConfig = {MathJaxConfig: 'local'};\n",
       "        if (window.MathJax && window.MathJax.Hub && window.MathJax.Hub.Config) {window.MathJax.Hub.Config({SVG: {font: \"STIX-Web\"}});}\n",
       "        </script>\n",
       "        <script type=\"module\">import \"https://cdn.plot.ly/plotly-3.1.0.min\"</script>\n",
       "        "
      ]
     },
     "metadata": {},
     "output_type": "display_data"
    }
   ],
   "source": [
    "import pandas as pd\n",
    "import cufflinks as cf\n",
    "from ipywidgets import interact\n",
    "import plotly as py\n",
    "import plotly.express as px\n",
    "import plotly.graph_objects as go\n",
    "\n",
    "cf.go_offline()"
   ]
  },
  {
   "cell_type": "code",
   "execution_count": 19,
   "metadata": {},
   "outputs": [
    {
     "data": {
      "text/html": [
       "<div>\n",
       "<style scoped>\n",
       "    .dataframe tbody tr th:only-of-type {\n",
       "        vertical-align: middle;\n",
       "    }\n",
       "\n",
       "    .dataframe tbody tr th {\n",
       "        vertical-align: top;\n",
       "    }\n",
       "\n",
       "    .dataframe thead th {\n",
       "        text-align: right;\n",
       "    }\n",
       "</style>\n",
       "<table border=\"1\" class=\"dataframe\">\n",
       "  <thead>\n",
       "    <tr style=\"text-align: right;\">\n",
       "      <th></th>\n",
       "      <th>InvoiceNo</th>\n",
       "      <th>InvoiceDate</th>\n",
       "      <th>StockCode</th>\n",
       "      <th>Description</th>\n",
       "      <th>Quantity</th>\n",
       "      <th>UnitPrice</th>\n",
       "      <th>Revenue</th>\n",
       "      <th>CustomerID</th>\n",
       "      <th>Country</th>\n",
       "    </tr>\n",
       "  </thead>\n",
       "  <tbody>\n",
       "    <tr>\n",
       "      <th>0</th>\n",
       "      <td>536365</td>\n",
       "      <td>2010-12-01 08:26:00</td>\n",
       "      <td>85123A</td>\n",
       "      <td>CREAM HANGING HEART T-LIGHT HOLDER</td>\n",
       "      <td>6</td>\n",
       "      <td>2.55</td>\n",
       "      <td>15.30</td>\n",
       "      <td>17850</td>\n",
       "      <td>United Kingdom</td>\n",
       "    </tr>\n",
       "    <tr>\n",
       "      <th>1</th>\n",
       "      <td>536373</td>\n",
       "      <td>2010-12-01 09:02:00</td>\n",
       "      <td>85123A</td>\n",
       "      <td>CREAM HANGING HEART T-LIGHT HOLDER</td>\n",
       "      <td>6</td>\n",
       "      <td>2.55</td>\n",
       "      <td>15.30</td>\n",
       "      <td>17850</td>\n",
       "      <td>United Kingdom</td>\n",
       "    </tr>\n",
       "    <tr>\n",
       "      <th>2</th>\n",
       "      <td>536375</td>\n",
       "      <td>2010-12-01 09:32:00</td>\n",
       "      <td>85123A</td>\n",
       "      <td>CREAM HANGING HEART T-LIGHT HOLDER</td>\n",
       "      <td>6</td>\n",
       "      <td>2.55</td>\n",
       "      <td>15.30</td>\n",
       "      <td>17850</td>\n",
       "      <td>United Kingdom</td>\n",
       "    </tr>\n",
       "    <tr>\n",
       "      <th>3</th>\n",
       "      <td>536390</td>\n",
       "      <td>2010-12-01 10:19:00</td>\n",
       "      <td>85123A</td>\n",
       "      <td>CREAM HANGING HEART T-LIGHT HOLDER</td>\n",
       "      <td>64</td>\n",
       "      <td>2.55</td>\n",
       "      <td>163.20</td>\n",
       "      <td>17511</td>\n",
       "      <td>United Kingdom</td>\n",
       "    </tr>\n",
       "    <tr>\n",
       "      <th>4</th>\n",
       "      <td>536394</td>\n",
       "      <td>2010-12-01 10:39:00</td>\n",
       "      <td>85123A</td>\n",
       "      <td>CREAM HANGING HEART T-LIGHT HOLDER</td>\n",
       "      <td>32</td>\n",
       "      <td>2.55</td>\n",
       "      <td>81.60</td>\n",
       "      <td>13408</td>\n",
       "      <td>United Kingdom</td>\n",
       "    </tr>\n",
       "    <tr>\n",
       "      <th>...</th>\n",
       "      <td>...</td>\n",
       "      <td>...</td>\n",
       "      <td>...</td>\n",
       "      <td>...</td>\n",
       "      <td>...</td>\n",
       "      <td>...</td>\n",
       "      <td>...</td>\n",
       "      <td>...</td>\n",
       "      <td>...</td>\n",
       "    </tr>\n",
       "    <tr>\n",
       "      <th>396029</th>\n",
       "      <td>580691</td>\n",
       "      <td>2011-12-05 15:48:00</td>\n",
       "      <td>90214W</td>\n",
       "      <td>LETTER \"W\" BLING KEY RING</td>\n",
       "      <td>12</td>\n",
       "      <td>0.29</td>\n",
       "      <td>3.48</td>\n",
       "      <td>13790</td>\n",
       "      <td>United Kingdom</td>\n",
       "    </tr>\n",
       "    <tr>\n",
       "      <th>396030</th>\n",
       "      <td>580691</td>\n",
       "      <td>2011-12-05 15:48:00</td>\n",
       "      <td>90214Z</td>\n",
       "      <td>LETTER \"Z\" BLING KEY RING</td>\n",
       "      <td>12</td>\n",
       "      <td>0.29</td>\n",
       "      <td>3.48</td>\n",
       "      <td>13790</td>\n",
       "      <td>United Kingdom</td>\n",
       "    </tr>\n",
       "    <tr>\n",
       "      <th>396031</th>\n",
       "      <td>580865</td>\n",
       "      <td>2011-12-06 11:58:00</td>\n",
       "      <td>90089</td>\n",
       "      <td>PINK CRYSTAL SKULL PHONE CHARM</td>\n",
       "      <td>12</td>\n",
       "      <td>0.19</td>\n",
       "      <td>2.28</td>\n",
       "      <td>17914</td>\n",
       "      <td>United Kingdom</td>\n",
       "    </tr>\n",
       "    <tr>\n",
       "      <th>396032</th>\n",
       "      <td>580865</td>\n",
       "      <td>2011-12-06 11:58:00</td>\n",
       "      <td>90089</td>\n",
       "      <td>PINK CRYSTAL SKULL PHONE CHARM</td>\n",
       "      <td>12</td>\n",
       "      <td>0.19</td>\n",
       "      <td>2.28</td>\n",
       "      <td>17914</td>\n",
       "      <td>United Kingdom</td>\n",
       "    </tr>\n",
       "    <tr>\n",
       "      <th>396033</th>\n",
       "      <td>581425</td>\n",
       "      <td>2011-12-08 15:31:00</td>\n",
       "      <td>90089</td>\n",
       "      <td>PINK CRYSTAL SKULL PHONE CHARM</td>\n",
       "      <td>1</td>\n",
       "      <td>0.19</td>\n",
       "      <td>0.19</td>\n",
       "      <td>14796</td>\n",
       "      <td>United Kingdom</td>\n",
       "    </tr>\n",
       "  </tbody>\n",
       "</table>\n",
       "<p>396034 rows × 9 columns</p>\n",
       "</div>"
      ],
      "text/plain": [
       "        InvoiceNo         InvoiceDate StockCode  \\\n",
       "0          536365 2010-12-01 08:26:00    85123A   \n",
       "1          536373 2010-12-01 09:02:00    85123A   \n",
       "2          536375 2010-12-01 09:32:00    85123A   \n",
       "3          536390 2010-12-01 10:19:00    85123A   \n",
       "4          536394 2010-12-01 10:39:00    85123A   \n",
       "...           ...                 ...       ...   \n",
       "396029     580691 2011-12-05 15:48:00    90214W   \n",
       "396030     580691 2011-12-05 15:48:00    90214Z   \n",
       "396031     580865 2011-12-06 11:58:00     90089   \n",
       "396032     580865 2011-12-06 11:58:00     90089   \n",
       "396033     581425 2011-12-08 15:31:00     90089   \n",
       "\n",
       "                               Description  Quantity  UnitPrice  Revenue  \\\n",
       "0       CREAM HANGING HEART T-LIGHT HOLDER         6       2.55    15.30   \n",
       "1       CREAM HANGING HEART T-LIGHT HOLDER         6       2.55    15.30   \n",
       "2       CREAM HANGING HEART T-LIGHT HOLDER         6       2.55    15.30   \n",
       "3       CREAM HANGING HEART T-LIGHT HOLDER        64       2.55   163.20   \n",
       "4       CREAM HANGING HEART T-LIGHT HOLDER        32       2.55    81.60   \n",
       "...                                    ...       ...        ...      ...   \n",
       "396029           LETTER \"W\" BLING KEY RING        12       0.29     3.48   \n",
       "396030           LETTER \"Z\" BLING KEY RING        12       0.29     3.48   \n",
       "396031      PINK CRYSTAL SKULL PHONE CHARM        12       0.19     2.28   \n",
       "396032      PINK CRYSTAL SKULL PHONE CHARM        12       0.19     2.28   \n",
       "396033      PINK CRYSTAL SKULL PHONE CHARM         1       0.19     0.19   \n",
       "\n",
       "        CustomerID         Country  \n",
       "0            17850  United Kingdom  \n",
       "1            17850  United Kingdom  \n",
       "2            17850  United Kingdom  \n",
       "3            17511  United Kingdom  \n",
       "4            13408  United Kingdom  \n",
       "...            ...             ...  \n",
       "396029       13790  United Kingdom  \n",
       "396030       13790  United Kingdom  \n",
       "396031       17914  United Kingdom  \n",
       "396032       17914  United Kingdom  \n",
       "396033       14796  United Kingdom  \n",
       "\n",
       "[396034 rows x 9 columns]"
      ]
     },
     "execution_count": 19,
     "metadata": {},
     "output_type": "execute_result"
    }
   ],
   "source": [
    "data = pd.read_excel('Online Retail.xlsx')\n",
    "\n",
    "data"
   ]
  },
  {
   "cell_type": "markdown",
   "metadata": {},
   "source": [
    "## 1. Create an interactive bar chart showing total quantity and revenue by country (excluding United Kingdom) for the month of April 2011."
   ]
  },
  {
   "cell_type": "code",
   "execution_count": 24,
   "metadata": {},
   "outputs": [
    {
     "name": "stdout",
     "output_type": "stream",
     "text": [
      "            Country  Quantity   Revenue\n",
      "0         Australia       224    421.60\n",
      "1           Austria       308    584.78\n",
      "2           Belgium      1170   1788.48\n",
      "3            Brazil       356   1143.60\n",
      "4   Channel Islands        96    243.00\n",
      "5              EIRE      4129   7270.50\n",
      "6           Finland       810   1368.92\n",
      "7            France      2265   3899.31\n",
      "8           Germany      5702  10994.79\n",
      "9            Greece       260    509.74\n",
      "10          Iceland       483    636.25\n",
      "11            Italy       653    737.83\n",
      "12            Japan      8058   6548.50\n",
      "13      Netherlands      1762   2886.56\n",
      "14           Poland       432    705.84\n",
      "15         Portugal       951   1687.75\n",
      "16        Singapore      1384   2118.74\n",
      "17            Spain       948   1645.65\n",
      "18           Sweden       306    649.10\n",
      "19      Switzerland       878   1756.94\n",
      "20              USA       137    383.95\n"
     ]
    },
    {
     "ename": "ValueError",
     "evalue": "Mime type rendering requires nbformat>=4.2.0 but it is not installed",
     "output_type": "error",
     "traceback": [
      "\u001b[31m---------------------------------------------------------------------------\u001b[39m",
      "\u001b[31mValueError\u001b[39m                                Traceback (most recent call last)",
      "\u001b[36mFile \u001b[39m\u001b[32m~/Desktop/Ironhack/lab-interactive-visualization/.venv/lib/python3.12/site-packages/IPython/core/formatters.py:984\u001b[39m, in \u001b[36mIPythonDisplayFormatter.__call__\u001b[39m\u001b[34m(self, obj)\u001b[39m\n\u001b[32m    982\u001b[39m method = get_real_method(obj, \u001b[38;5;28mself\u001b[39m.print_method)\n\u001b[32m    983\u001b[39m \u001b[38;5;28;01mif\u001b[39;00m method \u001b[38;5;129;01mis\u001b[39;00m \u001b[38;5;129;01mnot\u001b[39;00m \u001b[38;5;28;01mNone\u001b[39;00m:\n\u001b[32m--> \u001b[39m\u001b[32m984\u001b[39m     \u001b[43mmethod\u001b[49m\u001b[43m(\u001b[49m\u001b[43m)\u001b[49m\n\u001b[32m    985\u001b[39m     \u001b[38;5;28;01mreturn\u001b[39;00m \u001b[38;5;28;01mTrue\u001b[39;00m\n",
      "\u001b[36mFile \u001b[39m\u001b[32m~/Desktop/Ironhack/lab-interactive-visualization/.venv/lib/python3.12/site-packages/plotly/basedatatypes.py:850\u001b[39m, in \u001b[36mBaseFigure._ipython_display_\u001b[39m\u001b[34m(self)\u001b[39m\n\u001b[32m    847\u001b[39m \u001b[38;5;28;01mimport\u001b[39;00m\u001b[38;5;250m \u001b[39m\u001b[34;01mplotly\u001b[39;00m\u001b[34;01m.\u001b[39;00m\u001b[34;01mio\u001b[39;00m\u001b[38;5;250m \u001b[39m\u001b[38;5;28;01mas\u001b[39;00m\u001b[38;5;250m \u001b[39m\u001b[34;01mpio\u001b[39;00m\n\u001b[32m    849\u001b[39m \u001b[38;5;28;01mif\u001b[39;00m pio.renderers.render_on_display \u001b[38;5;129;01mand\u001b[39;00m pio.renderers.default:\n\u001b[32m--> \u001b[39m\u001b[32m850\u001b[39m     \u001b[43mpio\u001b[49m\u001b[43m.\u001b[49m\u001b[43mshow\u001b[49m\u001b[43m(\u001b[49m\u001b[38;5;28;43mself\u001b[39;49m\u001b[43m)\u001b[49m\n\u001b[32m    851\u001b[39m \u001b[38;5;28;01melse\u001b[39;00m:\n\u001b[32m    852\u001b[39m     \u001b[38;5;28mprint\u001b[39m(\u001b[38;5;28mrepr\u001b[39m(\u001b[38;5;28mself\u001b[39m))\n",
      "\u001b[36mFile \u001b[39m\u001b[32m~/Desktop/Ironhack/lab-interactive-visualization/.venv/lib/python3.12/site-packages/plotly/io/_renderers.py:415\u001b[39m, in \u001b[36mshow\u001b[39m\u001b[34m(fig, renderer, validate, **kwargs)\u001b[39m\n\u001b[32m    410\u001b[39m     \u001b[38;5;28;01mraise\u001b[39;00m \u001b[38;5;167;01mValueError\u001b[39;00m(\n\u001b[32m    411\u001b[39m         \u001b[33m\"\u001b[39m\u001b[33mMime type rendering requires ipython but it is not installed\u001b[39m\u001b[33m\"\u001b[39m\n\u001b[32m    412\u001b[39m     )\n\u001b[32m    414\u001b[39m \u001b[38;5;28;01mif\u001b[39;00m \u001b[38;5;129;01mnot\u001b[39;00m nbformat \u001b[38;5;129;01mor\u001b[39;00m Version(nbformat.__version__) < Version(\u001b[33m\"\u001b[39m\u001b[33m4.2.0\u001b[39m\u001b[33m\"\u001b[39m):\n\u001b[32m--> \u001b[39m\u001b[32m415\u001b[39m     \u001b[38;5;28;01mraise\u001b[39;00m \u001b[38;5;167;01mValueError\u001b[39;00m(\n\u001b[32m    416\u001b[39m         \u001b[33m\"\u001b[39m\u001b[33mMime type rendering requires nbformat>=4.2.0 but it is not installed\u001b[39m\u001b[33m\"\u001b[39m\n\u001b[32m    417\u001b[39m     )\n\u001b[32m    419\u001b[39m display_jupyter_version_warnings()\n\u001b[32m    421\u001b[39m ipython_display.display(bundle, raw=\u001b[38;5;28;01mTrue\u001b[39;00m)\n",
      "\u001b[31mValueError\u001b[39m: Mime type rendering requires nbformat>=4.2.0 but it is not installed"
     ]
    },
    {
     "data": {
      "text/html": [
       "        <script type=\"text/javascript\">\n",
       "        window.PlotlyConfig = {MathJaxConfig: 'local'};\n",
       "        if (window.MathJax && window.MathJax.Hub && window.MathJax.Hub.Config) {window.MathJax.Hub.Config({SVG: {font: \"STIX-Web\"}});}\n",
       "        </script>\n",
       "        <script type=\"module\">import \"https://cdn.plot.ly/plotly-3.1.0.min\"</script>\n",
       "        "
      ]
     },
     "metadata": {},
     "output_type": "display_data"
    },
    {
     "data": {
      "application/vnd.plotly.v1+json": {
       "config": {
        "plotlyServerURL": "https://plot.ly"
       },
       "data": [
        {
         "marker": {
          "color": "indianred"
         },
         "name": "Total Quantity",
         "type": "bar",
         "x": [
          "Australia",
          "Austria",
          "Belgium",
          "Brazil",
          "Channel Islands",
          "EIRE",
          "Finland",
          "France",
          "Germany",
          "Greece",
          "Iceland",
          "Italy",
          "Japan",
          "Netherlands",
          "Poland",
          "Portugal",
          "Singapore",
          "Spain",
          "Sweden",
          "Switzerland",
          "USA"
         ],
         "y": {
          "bdata": "4AA0AZIEZAFgACEQKgPZCEYWBAHjAY0Ceh/iBrABtwNoBbQDMgFuA4kA",
          "dtype": "i2"
         }
        },
        {
         "marker": {
          "color": "mediumblue"
         },
         "name": "Total Revenue",
         "type": "bar",
         "x": [
          "Australia",
          "Austria",
          "Belgium",
          "Brazil",
          "Channel Islands",
          "EIRE",
          "Finland",
          "France",
          "Germany",
          "Greece",
          "Iceland",
          "Italy",
          "Japan",
          "Netherlands",
          "Poland",
          "Portugal",
          "Singapore",
          "Spain",
          "Sweden",
          "Switzerland",
          "USA"
         ],
         "y": {
          "bdata": "mpmZmZlZekAK16NwPUaCQFK4HoXr8ZtAZmZmZmbekUAAAAAAAGBuQAAAAACAZrxASOF6FK5jlUCF61G4nnauQOxRuB5lecVApHA9Ctfbf0AAAAAAAOKDQHE9CtejDodAAAAAAICUuUCF61G4Ho2mQB6F61G4DoZAAAAAAABfmkAUrkfheo2gQJqZmZmZtplAzczMzMxIhED2KFyPwnObQDMzMzMz/3dA",
          "dtype": "f8"
         }
        }
       ],
       "layout": {
        "template": {
         "data": {
          "bar": [
           {
            "error_x": {
             "color": "#2a3f5f"
            },
            "error_y": {
             "color": "#2a3f5f"
            },
            "marker": {
             "line": {
              "color": "#E5ECF6",
              "width": 0.5
             },
             "pattern": {
              "fillmode": "overlay",
              "size": 10,
              "solidity": 0.2
             }
            },
            "type": "bar"
           }
          ],
          "barpolar": [
           {
            "marker": {
             "line": {
              "color": "#E5ECF6",
              "width": 0.5
             },
             "pattern": {
              "fillmode": "overlay",
              "size": 10,
              "solidity": 0.2
             }
            },
            "type": "barpolar"
           }
          ],
          "carpet": [
           {
            "aaxis": {
             "endlinecolor": "#2a3f5f",
             "gridcolor": "white",
             "linecolor": "white",
             "minorgridcolor": "white",
             "startlinecolor": "#2a3f5f"
            },
            "baxis": {
             "endlinecolor": "#2a3f5f",
             "gridcolor": "white",
             "linecolor": "white",
             "minorgridcolor": "white",
             "startlinecolor": "#2a3f5f"
            },
            "type": "carpet"
           }
          ],
          "choropleth": [
           {
            "colorbar": {
             "outlinewidth": 0,
             "ticks": ""
            },
            "type": "choropleth"
           }
          ],
          "contour": [
           {
            "colorbar": {
             "outlinewidth": 0,
             "ticks": ""
            },
            "colorscale": [
             [
              0,
              "#0d0887"
             ],
             [
              0.1111111111111111,
              "#46039f"
             ],
             [
              0.2222222222222222,
              "#7201a8"
             ],
             [
              0.3333333333333333,
              "#9c179e"
             ],
             [
              0.4444444444444444,
              "#bd3786"
             ],
             [
              0.5555555555555556,
              "#d8576b"
             ],
             [
              0.6666666666666666,
              "#ed7953"
             ],
             [
              0.7777777777777778,
              "#fb9f3a"
             ],
             [
              0.8888888888888888,
              "#fdca26"
             ],
             [
              1,
              "#f0f921"
             ]
            ],
            "type": "contour"
           }
          ],
          "contourcarpet": [
           {
            "colorbar": {
             "outlinewidth": 0,
             "ticks": ""
            },
            "type": "contourcarpet"
           }
          ],
          "heatmap": [
           {
            "colorbar": {
             "outlinewidth": 0,
             "ticks": ""
            },
            "colorscale": [
             [
              0,
              "#0d0887"
             ],
             [
              0.1111111111111111,
              "#46039f"
             ],
             [
              0.2222222222222222,
              "#7201a8"
             ],
             [
              0.3333333333333333,
              "#9c179e"
             ],
             [
              0.4444444444444444,
              "#bd3786"
             ],
             [
              0.5555555555555556,
              "#d8576b"
             ],
             [
              0.6666666666666666,
              "#ed7953"
             ],
             [
              0.7777777777777778,
              "#fb9f3a"
             ],
             [
              0.8888888888888888,
              "#fdca26"
             ],
             [
              1,
              "#f0f921"
             ]
            ],
            "type": "heatmap"
           }
          ],
          "histogram": [
           {
            "marker": {
             "pattern": {
              "fillmode": "overlay",
              "size": 10,
              "solidity": 0.2
             }
            },
            "type": "histogram"
           }
          ],
          "histogram2d": [
           {
            "colorbar": {
             "outlinewidth": 0,
             "ticks": ""
            },
            "colorscale": [
             [
              0,
              "#0d0887"
             ],
             [
              0.1111111111111111,
              "#46039f"
             ],
             [
              0.2222222222222222,
              "#7201a8"
             ],
             [
              0.3333333333333333,
              "#9c179e"
             ],
             [
              0.4444444444444444,
              "#bd3786"
             ],
             [
              0.5555555555555556,
              "#d8576b"
             ],
             [
              0.6666666666666666,
              "#ed7953"
             ],
             [
              0.7777777777777778,
              "#fb9f3a"
             ],
             [
              0.8888888888888888,
              "#fdca26"
             ],
             [
              1,
              "#f0f921"
             ]
            ],
            "type": "histogram2d"
           }
          ],
          "histogram2dcontour": [
           {
            "colorbar": {
             "outlinewidth": 0,
             "ticks": ""
            },
            "colorscale": [
             [
              0,
              "#0d0887"
             ],
             [
              0.1111111111111111,
              "#46039f"
             ],
             [
              0.2222222222222222,
              "#7201a8"
             ],
             [
              0.3333333333333333,
              "#9c179e"
             ],
             [
              0.4444444444444444,
              "#bd3786"
             ],
             [
              0.5555555555555556,
              "#d8576b"
             ],
             [
              0.6666666666666666,
              "#ed7953"
             ],
             [
              0.7777777777777778,
              "#fb9f3a"
             ],
             [
              0.8888888888888888,
              "#fdca26"
             ],
             [
              1,
              "#f0f921"
             ]
            ],
            "type": "histogram2dcontour"
           }
          ],
          "mesh3d": [
           {
            "colorbar": {
             "outlinewidth": 0,
             "ticks": ""
            },
            "type": "mesh3d"
           }
          ],
          "parcoords": [
           {
            "line": {
             "colorbar": {
              "outlinewidth": 0,
              "ticks": ""
             }
            },
            "type": "parcoords"
           }
          ],
          "pie": [
           {
            "automargin": true,
            "type": "pie"
           }
          ],
          "scatter": [
           {
            "fillpattern": {
             "fillmode": "overlay",
             "size": 10,
             "solidity": 0.2
            },
            "type": "scatter"
           }
          ],
          "scatter3d": [
           {
            "line": {
             "colorbar": {
              "outlinewidth": 0,
              "ticks": ""
             }
            },
            "marker": {
             "colorbar": {
              "outlinewidth": 0,
              "ticks": ""
             }
            },
            "type": "scatter3d"
           }
          ],
          "scattercarpet": [
           {
            "marker": {
             "colorbar": {
              "outlinewidth": 0,
              "ticks": ""
             }
            },
            "type": "scattercarpet"
           }
          ],
          "scattergeo": [
           {
            "marker": {
             "colorbar": {
              "outlinewidth": 0,
              "ticks": ""
             }
            },
            "type": "scattergeo"
           }
          ],
          "scattergl": [
           {
            "marker": {
             "colorbar": {
              "outlinewidth": 0,
              "ticks": ""
             }
            },
            "type": "scattergl"
           }
          ],
          "scattermap": [
           {
            "marker": {
             "colorbar": {
              "outlinewidth": 0,
              "ticks": ""
             }
            },
            "type": "scattermap"
           }
          ],
          "scattermapbox": [
           {
            "marker": {
             "colorbar": {
              "outlinewidth": 0,
              "ticks": ""
             }
            },
            "type": "scattermapbox"
           }
          ],
          "scatterpolar": [
           {
            "marker": {
             "colorbar": {
              "outlinewidth": 0,
              "ticks": ""
             }
            },
            "type": "scatterpolar"
           }
          ],
          "scatterpolargl": [
           {
            "marker": {
             "colorbar": {
              "outlinewidth": 0,
              "ticks": ""
             }
            },
            "type": "scatterpolargl"
           }
          ],
          "scatterternary": [
           {
            "marker": {
             "colorbar": {
              "outlinewidth": 0,
              "ticks": ""
             }
            },
            "type": "scatterternary"
           }
          ],
          "surface": [
           {
            "colorbar": {
             "outlinewidth": 0,
             "ticks": ""
            },
            "colorscale": [
             [
              0,
              "#0d0887"
             ],
             [
              0.1111111111111111,
              "#46039f"
             ],
             [
              0.2222222222222222,
              "#7201a8"
             ],
             [
              0.3333333333333333,
              "#9c179e"
             ],
             [
              0.4444444444444444,
              "#bd3786"
             ],
             [
              0.5555555555555556,
              "#d8576b"
             ],
             [
              0.6666666666666666,
              "#ed7953"
             ],
             [
              0.7777777777777778,
              "#fb9f3a"
             ],
             [
              0.8888888888888888,
              "#fdca26"
             ],
             [
              1,
              "#f0f921"
             ]
            ],
            "type": "surface"
           }
          ],
          "table": [
           {
            "cells": {
             "fill": {
              "color": "#EBF0F8"
             },
             "line": {
              "color": "white"
             }
            },
            "header": {
             "fill": {
              "color": "#C8D4E3"
             },
             "line": {
              "color": "white"
             }
            },
            "type": "table"
           }
          ]
         },
         "layout": {
          "annotationdefaults": {
           "arrowcolor": "#2a3f5f",
           "arrowhead": 0,
           "arrowwidth": 1
          },
          "autotypenumbers": "strict",
          "coloraxis": {
           "colorbar": {
            "outlinewidth": 0,
            "ticks": ""
           }
          },
          "colorscale": {
           "diverging": [
            [
             0,
             "#8e0152"
            ],
            [
             0.1,
             "#c51b7d"
            ],
            [
             0.2,
             "#de77ae"
            ],
            [
             0.3,
             "#f1b6da"
            ],
            [
             0.4,
             "#fde0ef"
            ],
            [
             0.5,
             "#f7f7f7"
            ],
            [
             0.6,
             "#e6f5d0"
            ],
            [
             0.7,
             "#b8e186"
            ],
            [
             0.8,
             "#7fbc41"
            ],
            [
             0.9,
             "#4d9221"
            ],
            [
             1,
             "#276419"
            ]
           ],
           "sequential": [
            [
             0,
             "#0d0887"
            ],
            [
             0.1111111111111111,
             "#46039f"
            ],
            [
             0.2222222222222222,
             "#7201a8"
            ],
            [
             0.3333333333333333,
             "#9c179e"
            ],
            [
             0.4444444444444444,
             "#bd3786"
            ],
            [
             0.5555555555555556,
             "#d8576b"
            ],
            [
             0.6666666666666666,
             "#ed7953"
            ],
            [
             0.7777777777777778,
             "#fb9f3a"
            ],
            [
             0.8888888888888888,
             "#fdca26"
            ],
            [
             1,
             "#f0f921"
            ]
           ],
           "sequentialminus": [
            [
             0,
             "#0d0887"
            ],
            [
             0.1111111111111111,
             "#46039f"
            ],
            [
             0.2222222222222222,
             "#7201a8"
            ],
            [
             0.3333333333333333,
             "#9c179e"
            ],
            [
             0.4444444444444444,
             "#bd3786"
            ],
            [
             0.5555555555555556,
             "#d8576b"
            ],
            [
             0.6666666666666666,
             "#ed7953"
            ],
            [
             0.7777777777777778,
             "#fb9f3a"
            ],
            [
             0.8888888888888888,
             "#fdca26"
            ],
            [
             1,
             "#f0f921"
            ]
           ]
          },
          "colorway": [
           "#636efa",
           "#EF553B",
           "#00cc96",
           "#ab63fa",
           "#FFA15A",
           "#19d3f3",
           "#FF6692",
           "#B6E880",
           "#FF97FF",
           "#FECB52"
          ],
          "font": {
           "color": "#2a3f5f"
          },
          "geo": {
           "bgcolor": "white",
           "lakecolor": "white",
           "landcolor": "#E5ECF6",
           "showlakes": true,
           "showland": true,
           "subunitcolor": "white"
          },
          "hoverlabel": {
           "align": "left"
          },
          "hovermode": "closest",
          "mapbox": {
           "style": "light"
          },
          "paper_bgcolor": "white",
          "plot_bgcolor": "#E5ECF6",
          "polar": {
           "angularaxis": {
            "gridcolor": "white",
            "linecolor": "white",
            "ticks": ""
           },
           "bgcolor": "#E5ECF6",
           "radialaxis": {
            "gridcolor": "white",
            "linecolor": "white",
            "ticks": ""
           }
          },
          "scene": {
           "xaxis": {
            "backgroundcolor": "#E5ECF6",
            "gridcolor": "white",
            "gridwidth": 2,
            "linecolor": "white",
            "showbackground": true,
            "ticks": "",
            "zerolinecolor": "white"
           },
           "yaxis": {
            "backgroundcolor": "#E5ECF6",
            "gridcolor": "white",
            "gridwidth": 2,
            "linecolor": "white",
            "showbackground": true,
            "ticks": "",
            "zerolinecolor": "white"
           },
           "zaxis": {
            "backgroundcolor": "#E5ECF6",
            "gridcolor": "white",
            "gridwidth": 2,
            "linecolor": "white",
            "showbackground": true,
            "ticks": "",
            "zerolinecolor": "white"
           }
          },
          "shapedefaults": {
           "line": {
            "color": "#2a3f5f"
           }
          },
          "ternary": {
           "aaxis": {
            "gridcolor": "white",
            "linecolor": "white",
            "ticks": ""
           },
           "baxis": {
            "gridcolor": "white",
            "linecolor": "white",
            "ticks": ""
           },
           "bgcolor": "#E5ECF6",
           "caxis": {
            "gridcolor": "white",
            "linecolor": "white",
            "ticks": ""
           }
          },
          "title": {
           "x": 0.05
          },
          "xaxis": {
           "automargin": true,
           "gridcolor": "white",
           "linecolor": "white",
           "ticks": "",
           "title": {
            "standoff": 15
           },
           "zerolinecolor": "white",
           "zerolinewidth": 2
          },
          "yaxis": {
           "automargin": true,
           "gridcolor": "white",
           "linecolor": "white",
           "ticks": "",
           "title": {
            "standoff": 15
           },
           "zerolinecolor": "white",
           "zerolinewidth": 2
          }
         }
        }
       }
      },
      "text/html": [
       "<div>            <script src=\"https://cdnjs.cloudflare.com/ajax/libs/mathjax/2.7.5/MathJax.js?config=TeX-AMS-MML_SVG\"></script><script type=\"text/javascript\">if (window.MathJax && window.MathJax.Hub && window.MathJax.Hub.Config) {window.MathJax.Hub.Config({SVG: {font: \"STIX-Web\"}});}</script>                <script type=\"text/javascript\">window.PlotlyConfig = {MathJaxConfig: 'local'};</script>\n",
       "        <script charset=\"utf-8\" src=\"https://cdn.plot.ly/plotly-3.1.0.min.js\" integrity=\"sha256-Ei4740bWZhaUTQuD6q9yQlgVCMPBz6CZWhevDYPv93A=\" crossorigin=\"anonymous\"></script>                <div id=\"cb110fc0-7ce8-4ff8-bcf4-1b39416bdf7e\" class=\"plotly-graph-div\" style=\"height:525px; width:100%;\"></div>            <script type=\"text/javascript\">                window.PLOTLYENV=window.PLOTLYENV || {};                                if (document.getElementById(\"cb110fc0-7ce8-4ff8-bcf4-1b39416bdf7e\")) {                    Plotly.newPlot(                        \"cb110fc0-7ce8-4ff8-bcf4-1b39416bdf7e\",                        [{\"marker\":{\"color\":\"indianred\"},\"name\":\"Total Quantity\",\"x\":[\"Australia\",\"Austria\",\"Belgium\",\"Brazil\",\"Channel Islands\",\"EIRE\",\"Finland\",\"France\",\"Germany\",\"Greece\",\"Iceland\",\"Italy\",\"Japan\",\"Netherlands\",\"Poland\",\"Portugal\",\"Singapore\",\"Spain\",\"Sweden\",\"Switzerland\",\"USA\"],\"y\":{\"dtype\":\"i2\",\"bdata\":\"4AA0AZIEZAFgACEQKgPZCEYWBAHjAY0Ceh\\u002fiBrABtwNoBbQDMgFuA4kA\"},\"type\":\"bar\"},{\"marker\":{\"color\":\"mediumblue\"},\"name\":\"Total Revenue\",\"x\":[\"Australia\",\"Austria\",\"Belgium\",\"Brazil\",\"Channel Islands\",\"EIRE\",\"Finland\",\"France\",\"Germany\",\"Greece\",\"Iceland\",\"Italy\",\"Japan\",\"Netherlands\",\"Poland\",\"Portugal\",\"Singapore\",\"Spain\",\"Sweden\",\"Switzerland\",\"USA\"],\"y\":{\"dtype\":\"f8\",\"bdata\":\"mpmZmZlZekAK16NwPUaCQFK4HoXr8ZtAZmZmZmbekUAAAAAAAGBuQAAAAACAZrxASOF6FK5jlUCF61G4nnauQOxRuB5lecVApHA9Ctfbf0AAAAAAAOKDQHE9CtejDodAAAAAAICUuUCF61G4Ho2mQB6F61G4DoZAAAAAAABfmkAUrkfheo2gQJqZmZmZtplAzczMzMxIhED2KFyPwnObQDMzMzMz\\u002f3dA\"},\"type\":\"bar\"}],                        {\"template\":{\"data\":{\"histogram2dcontour\":[{\"type\":\"histogram2dcontour\",\"colorbar\":{\"outlinewidth\":0,\"ticks\":\"\"},\"colorscale\":[[0.0,\"#0d0887\"],[0.1111111111111111,\"#46039f\"],[0.2222222222222222,\"#7201a8\"],[0.3333333333333333,\"#9c179e\"],[0.4444444444444444,\"#bd3786\"],[0.5555555555555556,\"#d8576b\"],[0.6666666666666666,\"#ed7953\"],[0.7777777777777778,\"#fb9f3a\"],[0.8888888888888888,\"#fdca26\"],[1.0,\"#f0f921\"]]}],\"choropleth\":[{\"type\":\"choropleth\",\"colorbar\":{\"outlinewidth\":0,\"ticks\":\"\"}}],\"histogram2d\":[{\"type\":\"histogram2d\",\"colorbar\":{\"outlinewidth\":0,\"ticks\":\"\"},\"colorscale\":[[0.0,\"#0d0887\"],[0.1111111111111111,\"#46039f\"],[0.2222222222222222,\"#7201a8\"],[0.3333333333333333,\"#9c179e\"],[0.4444444444444444,\"#bd3786\"],[0.5555555555555556,\"#d8576b\"],[0.6666666666666666,\"#ed7953\"],[0.7777777777777778,\"#fb9f3a\"],[0.8888888888888888,\"#fdca26\"],[1.0,\"#f0f921\"]]}],\"heatmap\":[{\"type\":\"heatmap\",\"colorbar\":{\"outlinewidth\":0,\"ticks\":\"\"},\"colorscale\":[[0.0,\"#0d0887\"],[0.1111111111111111,\"#46039f\"],[0.2222222222222222,\"#7201a8\"],[0.3333333333333333,\"#9c179e\"],[0.4444444444444444,\"#bd3786\"],[0.5555555555555556,\"#d8576b\"],[0.6666666666666666,\"#ed7953\"],[0.7777777777777778,\"#fb9f3a\"],[0.8888888888888888,\"#fdca26\"],[1.0,\"#f0f921\"]]}],\"contourcarpet\":[{\"type\":\"contourcarpet\",\"colorbar\":{\"outlinewidth\":0,\"ticks\":\"\"}}],\"contour\":[{\"type\":\"contour\",\"colorbar\":{\"outlinewidth\":0,\"ticks\":\"\"},\"colorscale\":[[0.0,\"#0d0887\"],[0.1111111111111111,\"#46039f\"],[0.2222222222222222,\"#7201a8\"],[0.3333333333333333,\"#9c179e\"],[0.4444444444444444,\"#bd3786\"],[0.5555555555555556,\"#d8576b\"],[0.6666666666666666,\"#ed7953\"],[0.7777777777777778,\"#fb9f3a\"],[0.8888888888888888,\"#fdca26\"],[1.0,\"#f0f921\"]]}],\"surface\":[{\"type\":\"surface\",\"colorbar\":{\"outlinewidth\":0,\"ticks\":\"\"},\"colorscale\":[[0.0,\"#0d0887\"],[0.1111111111111111,\"#46039f\"],[0.2222222222222222,\"#7201a8\"],[0.3333333333333333,\"#9c179e\"],[0.4444444444444444,\"#bd3786\"],[0.5555555555555556,\"#d8576b\"],[0.6666666666666666,\"#ed7953\"],[0.7777777777777778,\"#fb9f3a\"],[0.8888888888888888,\"#fdca26\"],[1.0,\"#f0f921\"]]}],\"mesh3d\":[{\"type\":\"mesh3d\",\"colorbar\":{\"outlinewidth\":0,\"ticks\":\"\"}}],\"scatter\":[{\"fillpattern\":{\"fillmode\":\"overlay\",\"size\":10,\"solidity\":0.2},\"type\":\"scatter\"}],\"parcoords\":[{\"type\":\"parcoords\",\"line\":{\"colorbar\":{\"outlinewidth\":0,\"ticks\":\"\"}}}],\"scatterpolargl\":[{\"type\":\"scatterpolargl\",\"marker\":{\"colorbar\":{\"outlinewidth\":0,\"ticks\":\"\"}}}],\"bar\":[{\"error_x\":{\"color\":\"#2a3f5f\"},\"error_y\":{\"color\":\"#2a3f5f\"},\"marker\":{\"line\":{\"color\":\"#E5ECF6\",\"width\":0.5},\"pattern\":{\"fillmode\":\"overlay\",\"size\":10,\"solidity\":0.2}},\"type\":\"bar\"}],\"scattergeo\":[{\"type\":\"scattergeo\",\"marker\":{\"colorbar\":{\"outlinewidth\":0,\"ticks\":\"\"}}}],\"scatterpolar\":[{\"type\":\"scatterpolar\",\"marker\":{\"colorbar\":{\"outlinewidth\":0,\"ticks\":\"\"}}}],\"histogram\":[{\"marker\":{\"pattern\":{\"fillmode\":\"overlay\",\"size\":10,\"solidity\":0.2}},\"type\":\"histogram\"}],\"scattergl\":[{\"type\":\"scattergl\",\"marker\":{\"colorbar\":{\"outlinewidth\":0,\"ticks\":\"\"}}}],\"scatter3d\":[{\"type\":\"scatter3d\",\"line\":{\"colorbar\":{\"outlinewidth\":0,\"ticks\":\"\"}},\"marker\":{\"colorbar\":{\"outlinewidth\":0,\"ticks\":\"\"}}}],\"scattermap\":[{\"type\":\"scattermap\",\"marker\":{\"colorbar\":{\"outlinewidth\":0,\"ticks\":\"\"}}}],\"scattermapbox\":[{\"type\":\"scattermapbox\",\"marker\":{\"colorbar\":{\"outlinewidth\":0,\"ticks\":\"\"}}}],\"scatterternary\":[{\"type\":\"scatterternary\",\"marker\":{\"colorbar\":{\"outlinewidth\":0,\"ticks\":\"\"}}}],\"scattercarpet\":[{\"type\":\"scattercarpet\",\"marker\":{\"colorbar\":{\"outlinewidth\":0,\"ticks\":\"\"}}}],\"carpet\":[{\"aaxis\":{\"endlinecolor\":\"#2a3f5f\",\"gridcolor\":\"white\",\"linecolor\":\"white\",\"minorgridcolor\":\"white\",\"startlinecolor\":\"#2a3f5f\"},\"baxis\":{\"endlinecolor\":\"#2a3f5f\",\"gridcolor\":\"white\",\"linecolor\":\"white\",\"minorgridcolor\":\"white\",\"startlinecolor\":\"#2a3f5f\"},\"type\":\"carpet\"}],\"table\":[{\"cells\":{\"fill\":{\"color\":\"#EBF0F8\"},\"line\":{\"color\":\"white\"}},\"header\":{\"fill\":{\"color\":\"#C8D4E3\"},\"line\":{\"color\":\"white\"}},\"type\":\"table\"}],\"barpolar\":[{\"marker\":{\"line\":{\"color\":\"#E5ECF6\",\"width\":0.5},\"pattern\":{\"fillmode\":\"overlay\",\"size\":10,\"solidity\":0.2}},\"type\":\"barpolar\"}],\"pie\":[{\"automargin\":true,\"type\":\"pie\"}]},\"layout\":{\"autotypenumbers\":\"strict\",\"colorway\":[\"#636efa\",\"#EF553B\",\"#00cc96\",\"#ab63fa\",\"#FFA15A\",\"#19d3f3\",\"#FF6692\",\"#B6E880\",\"#FF97FF\",\"#FECB52\"],\"font\":{\"color\":\"#2a3f5f\"},\"hovermode\":\"closest\",\"hoverlabel\":{\"align\":\"left\"},\"paper_bgcolor\":\"white\",\"plot_bgcolor\":\"#E5ECF6\",\"polar\":{\"bgcolor\":\"#E5ECF6\",\"angularaxis\":{\"gridcolor\":\"white\",\"linecolor\":\"white\",\"ticks\":\"\"},\"radialaxis\":{\"gridcolor\":\"white\",\"linecolor\":\"white\",\"ticks\":\"\"}},\"ternary\":{\"bgcolor\":\"#E5ECF6\",\"aaxis\":{\"gridcolor\":\"white\",\"linecolor\":\"white\",\"ticks\":\"\"},\"baxis\":{\"gridcolor\":\"white\",\"linecolor\":\"white\",\"ticks\":\"\"},\"caxis\":{\"gridcolor\":\"white\",\"linecolor\":\"white\",\"ticks\":\"\"}},\"coloraxis\":{\"colorbar\":{\"outlinewidth\":0,\"ticks\":\"\"}},\"colorscale\":{\"sequential\":[[0.0,\"#0d0887\"],[0.1111111111111111,\"#46039f\"],[0.2222222222222222,\"#7201a8\"],[0.3333333333333333,\"#9c179e\"],[0.4444444444444444,\"#bd3786\"],[0.5555555555555556,\"#d8576b\"],[0.6666666666666666,\"#ed7953\"],[0.7777777777777778,\"#fb9f3a\"],[0.8888888888888888,\"#fdca26\"],[1.0,\"#f0f921\"]],\"sequentialminus\":[[0.0,\"#0d0887\"],[0.1111111111111111,\"#46039f\"],[0.2222222222222222,\"#7201a8\"],[0.3333333333333333,\"#9c179e\"],[0.4444444444444444,\"#bd3786\"],[0.5555555555555556,\"#d8576b\"],[0.6666666666666666,\"#ed7953\"],[0.7777777777777778,\"#fb9f3a\"],[0.8888888888888888,\"#fdca26\"],[1.0,\"#f0f921\"]],\"diverging\":[[0,\"#8e0152\"],[0.1,\"#c51b7d\"],[0.2,\"#de77ae\"],[0.3,\"#f1b6da\"],[0.4,\"#fde0ef\"],[0.5,\"#f7f7f7\"],[0.6,\"#e6f5d0\"],[0.7,\"#b8e186\"],[0.8,\"#7fbc41\"],[0.9,\"#4d9221\"],[1,\"#276419\"]]},\"xaxis\":{\"gridcolor\":\"white\",\"linecolor\":\"white\",\"ticks\":\"\",\"title\":{\"standoff\":15},\"zerolinecolor\":\"white\",\"automargin\":true,\"zerolinewidth\":2},\"yaxis\":{\"gridcolor\":\"white\",\"linecolor\":\"white\",\"ticks\":\"\",\"title\":{\"standoff\":15},\"zerolinecolor\":\"white\",\"automargin\":true,\"zerolinewidth\":2},\"scene\":{\"xaxis\":{\"backgroundcolor\":\"#E5ECF6\",\"gridcolor\":\"white\",\"linecolor\":\"white\",\"showbackground\":true,\"ticks\":\"\",\"zerolinecolor\":\"white\",\"gridwidth\":2},\"yaxis\":{\"backgroundcolor\":\"#E5ECF6\",\"gridcolor\":\"white\",\"linecolor\":\"white\",\"showbackground\":true,\"ticks\":\"\",\"zerolinecolor\":\"white\",\"gridwidth\":2},\"zaxis\":{\"backgroundcolor\":\"#E5ECF6\",\"gridcolor\":\"white\",\"linecolor\":\"white\",\"showbackground\":true,\"ticks\":\"\",\"zerolinecolor\":\"white\",\"gridwidth\":2}},\"shapedefaults\":{\"line\":{\"color\":\"#2a3f5f\"}},\"annotationdefaults\":{\"arrowcolor\":\"#2a3f5f\",\"arrowhead\":0,\"arrowwidth\":1},\"geo\":{\"bgcolor\":\"white\",\"landcolor\":\"#E5ECF6\",\"subunitcolor\":\"white\",\"showland\":true,\"showlakes\":true,\"lakecolor\":\"white\"},\"title\":{\"x\":0.05},\"mapbox\":{\"style\":\"light\"}}}},                        {\"responsive\": true}                    ).then(function(){\n",
       "                            \n",
       "var gd = document.getElementById('cb110fc0-7ce8-4ff8-bcf4-1b39416bdf7e');\n",
       "var x = new MutationObserver(function (mutations, observer) {{\n",
       "        var display = window.getComputedStyle(gd).display;\n",
       "        if (!display || display === 'none') {{\n",
       "            console.log([gd, 'removed!']);\n",
       "            Plotly.purge(gd);\n",
       "            observer.disconnect();\n",
       "        }}\n",
       "}});\n",
       "\n",
       "// Listen for the removal of the full notebook cells\n",
       "var notebookContainer = gd.closest('#notebook-container');\n",
       "if (notebookContainer) {{\n",
       "    x.observe(notebookContainer, {childList: true});\n",
       "}}\n",
       "\n",
       "// Listen for the clearing of the current output cell\n",
       "var outputEl = gd.closest('.output');\n",
       "if (outputEl) {{\n",
       "    x.observe(outputEl, {childList: true});\n",
       "}}\n",
       "\n",
       "                        })                };            </script>        </div>"
      ],
      "text/plain": [
       "Figure({\n",
       "    'data': [{'marker': {'color': 'indianred'},\n",
       "              'name': 'Total Quantity',\n",
       "              'type': 'bar',\n",
       "              'x': array(['Australia', 'Austria', 'Belgium', 'Brazil', 'Channel Islands', 'EIRE',\n",
       "                          'Finland', 'France', 'Germany', 'Greece', 'Iceland', 'Italy', 'Japan',\n",
       "                          'Netherlands', 'Poland', 'Portugal', 'Singapore', 'Spain', 'Sweden',\n",
       "                          'Switzerland', 'USA'], dtype=object),\n",
       "              'y': {'bdata': '4AA0AZIEZAFgACEQKgPZCEYWBAHjAY0Ceh/iBrABtwNoBbQDMgFuA4kA', 'dtype': 'i2'}},\n",
       "             {'marker': {'color': 'mediumblue'},\n",
       "              'name': 'Total Revenue',\n",
       "              'type': 'bar',\n",
       "              'x': array(['Australia', 'Austria', 'Belgium', 'Brazil', 'Channel Islands', 'EIRE',\n",
       "                          'Finland', 'France', 'Germany', 'Greece', 'Iceland', 'Italy', 'Japan',\n",
       "                          'Netherlands', 'Poland', 'Portugal', 'Singapore', 'Spain', 'Sweden',\n",
       "                          'Switzerland', 'USA'], dtype=object),\n",
       "              'y': {'bdata': ('mpmZmZlZekAK16NwPUaCQFK4HoXr8Z' ... 'zMzMxIhED2KFyPwnObQDMzMzMz/3dA'),\n",
       "                    'dtype': 'f8'}}],\n",
       "    'layout': {'template': '...'}\n",
       "})"
      ]
     },
     "execution_count": 24,
     "metadata": {},
     "output_type": "execute_result"
    }
   ],
   "source": [
    "data['InvoiceDate'] = pd.to_datetime(data['InvoiceDate'])\n",
    "\n",
    "filtered_data = data[\n",
    "(data[\"InvoiceDate\"].dt.year == 2011) & \n",
    "(data['InvoiceDate'].dt.month == 4) &\n",
    "(data['Country'] != 'United Kingdom')\n",
    "]\n",
    "\n",
    "# Group the filtered data by 'Country' and calculate the total Quantity and Revenue\n",
    "\n",
    "country_totals = filtered_data.groupby(\"Country\", as_index=False)[[\"Quantity\", \"Revenue\"]].sum()\n",
    "\n",
    "# Display the resulting DataFrame\n",
    "print(country_totals)\n",
    "\n",
    "# Create a bar chart with Plotly Express\n",
    "fig = go.Figure()\n",
    "\n",
    "# Step 2: Add a trace for Total Quantity.\n",
    "fig.add_trace(go.Bar(\n",
    "    x=country_totals[\"Country\"],\n",
    "    y=country_totals[\"Quantity\"],\n",
    "    name='Total Quantity',\n",
    "    marker_color='indianred'\n",
    "))\n",
    "\n",
    "# Step 3: Add a trace for Total Revenue to the same figure.\n",
    "fig.add_trace(go.Bar(\n",
    "    x=country_totals[\"Country\"],\n",
    "    y=country_totals[\"Revenue\"],\n",
    "    name='Total Revenue',\n",
    "    marker_color='mediumblue'\n",
    "))\n"
   ]
  },
  {
   "cell_type": "markdown",
   "metadata": {},
   "source": [
    "## 2. Create an interactive line chart showing quantity and revenue sold to France between January 1st and May 31st 2011."
   ]
  },
  {
   "cell_type": "code",
   "execution_count": 36,
   "metadata": {},
   "outputs": [
    {
     "name": "stdout",
     "output_type": "stream",
     "text": [
      "            InvoiceDate  Quantity  Revenue\n",
      "0   2011-01-05 12:42:00       359   502.07\n",
      "1   2011-01-05 14:48:00       369   763.11\n",
      "2   2011-01-06 14:26:00       261   283.77\n",
      "3   2011-01-06 16:12:00       177   425.25\n",
      "4   2011-01-07 12:07:00       488   676.16\n",
      "..                  ...       ...      ...\n",
      "118 2011-05-25 12:44:00       180   390.96\n",
      "119 2011-05-25 12:54:00       374   514.74\n",
      "120 2011-05-26 14:53:00        86   196.50\n",
      "121 2011-05-26 17:16:00       424   362.00\n",
      "122 2011-05-27 13:49:00       155   367.09\n",
      "\n",
      "[123 rows x 3 columns]\n"
     ]
    },
    {
     "ename": "ValueError",
     "evalue": "Mime type rendering requires nbformat>=4.2.0 but it is not installed",
     "output_type": "error",
     "traceback": [
      "\u001b[31m---------------------------------------------------------------------------\u001b[39m",
      "\u001b[31mValueError\u001b[39m                                Traceback (most recent call last)",
      "\u001b[36mFile \u001b[39m\u001b[32m~/Desktop/Ironhack/lab-interactive-visualization/.venv/lib/python3.12/site-packages/IPython/core/formatters.py:984\u001b[39m, in \u001b[36mIPythonDisplayFormatter.__call__\u001b[39m\u001b[34m(self, obj)\u001b[39m\n\u001b[32m    982\u001b[39m method = get_real_method(obj, \u001b[38;5;28mself\u001b[39m.print_method)\n\u001b[32m    983\u001b[39m \u001b[38;5;28;01mif\u001b[39;00m method \u001b[38;5;129;01mis\u001b[39;00m \u001b[38;5;129;01mnot\u001b[39;00m \u001b[38;5;28;01mNone\u001b[39;00m:\n\u001b[32m--> \u001b[39m\u001b[32m984\u001b[39m     \u001b[43mmethod\u001b[49m\u001b[43m(\u001b[49m\u001b[43m)\u001b[49m\n\u001b[32m    985\u001b[39m     \u001b[38;5;28;01mreturn\u001b[39;00m \u001b[38;5;28;01mTrue\u001b[39;00m\n",
      "\u001b[36mFile \u001b[39m\u001b[32m~/Desktop/Ironhack/lab-interactive-visualization/.venv/lib/python3.12/site-packages/plotly/basedatatypes.py:850\u001b[39m, in \u001b[36mBaseFigure._ipython_display_\u001b[39m\u001b[34m(self)\u001b[39m\n\u001b[32m    847\u001b[39m \u001b[38;5;28;01mimport\u001b[39;00m\u001b[38;5;250m \u001b[39m\u001b[34;01mplotly\u001b[39;00m\u001b[34;01m.\u001b[39;00m\u001b[34;01mio\u001b[39;00m\u001b[38;5;250m \u001b[39m\u001b[38;5;28;01mas\u001b[39;00m\u001b[38;5;250m \u001b[39m\u001b[34;01mpio\u001b[39;00m\n\u001b[32m    849\u001b[39m \u001b[38;5;28;01mif\u001b[39;00m pio.renderers.render_on_display \u001b[38;5;129;01mand\u001b[39;00m pio.renderers.default:\n\u001b[32m--> \u001b[39m\u001b[32m850\u001b[39m     \u001b[43mpio\u001b[49m\u001b[43m.\u001b[49m\u001b[43mshow\u001b[49m\u001b[43m(\u001b[49m\u001b[38;5;28;43mself\u001b[39;49m\u001b[43m)\u001b[49m\n\u001b[32m    851\u001b[39m \u001b[38;5;28;01melse\u001b[39;00m:\n\u001b[32m    852\u001b[39m     \u001b[38;5;28mprint\u001b[39m(\u001b[38;5;28mrepr\u001b[39m(\u001b[38;5;28mself\u001b[39m))\n",
      "\u001b[36mFile \u001b[39m\u001b[32m~/Desktop/Ironhack/lab-interactive-visualization/.venv/lib/python3.12/site-packages/plotly/io/_renderers.py:415\u001b[39m, in \u001b[36mshow\u001b[39m\u001b[34m(fig, renderer, validate, **kwargs)\u001b[39m\n\u001b[32m    410\u001b[39m     \u001b[38;5;28;01mraise\u001b[39;00m \u001b[38;5;167;01mValueError\u001b[39;00m(\n\u001b[32m    411\u001b[39m         \u001b[33m\"\u001b[39m\u001b[33mMime type rendering requires ipython but it is not installed\u001b[39m\u001b[33m\"\u001b[39m\n\u001b[32m    412\u001b[39m     )\n\u001b[32m    414\u001b[39m \u001b[38;5;28;01mif\u001b[39;00m \u001b[38;5;129;01mnot\u001b[39;00m nbformat \u001b[38;5;129;01mor\u001b[39;00m Version(nbformat.__version__) < Version(\u001b[33m\"\u001b[39m\u001b[33m4.2.0\u001b[39m\u001b[33m\"\u001b[39m):\n\u001b[32m--> \u001b[39m\u001b[32m415\u001b[39m     \u001b[38;5;28;01mraise\u001b[39;00m \u001b[38;5;167;01mValueError\u001b[39;00m(\n\u001b[32m    416\u001b[39m         \u001b[33m\"\u001b[39m\u001b[33mMime type rendering requires nbformat>=4.2.0 but it is not installed\u001b[39m\u001b[33m\"\u001b[39m\n\u001b[32m    417\u001b[39m     )\n\u001b[32m    419\u001b[39m display_jupyter_version_warnings()\n\u001b[32m    421\u001b[39m ipython_display.display(bundle, raw=\u001b[38;5;28;01mTrue\u001b[39;00m)\n",
      "\u001b[31mValueError\u001b[39m: Mime type rendering requires nbformat>=4.2.0 but it is not installed"
     ]
    },
    {
     "data": {
      "text/html": [
       "        <script type=\"text/javascript\">\n",
       "        window.PlotlyConfig = {MathJaxConfig: 'local'};\n",
       "        if (window.MathJax && window.MathJax.Hub && window.MathJax.Hub.Config) {window.MathJax.Hub.Config({SVG: {font: \"STIX-Web\"}});}\n",
       "        </script>\n",
       "        <script type=\"module\">import \"https://cdn.plot.ly/plotly-3.1.0.min\"</script>\n",
       "        "
      ]
     },
     "metadata": {},
     "output_type": "display_data"
    },
    {
     "data": {
      "application/vnd.plotly.v1+json": {
       "config": {
        "plotlyServerURL": "https://plot.ly"
       },
       "data": [
        {
         "marker": {
          "color": "indianred"
         },
         "mode": "lines",
         "name": "Total Quantity",
         "type": "scatter",
         "x": [
          "2011-01-05T12:42:00.000000000",
          "2011-01-05T14:48:00.000000000",
          "2011-01-06T14:26:00.000000000",
          "2011-01-06T16:12:00.000000000",
          "2011-01-07T12:07:00.000000000",
          "2011-01-07T13:13:00.000000000",
          "2011-01-09T12:46:00.000000000",
          "2011-01-10T13:22:00.000000000",
          "2011-01-11T07:57:00.000000000",
          "2011-01-11T11:48:00.000000000",
          "2011-01-11T13:31:00.000000000",
          "2011-01-11T15:00:00.000000000",
          "2011-01-12T09:43:00.000000000",
          "2011-01-12T14:13:00.000000000",
          "2011-01-12T15:00:00.000000000",
          "2011-01-14T09:13:00.000000000",
          "2011-01-14T09:20:00.000000000",
          "2011-01-14T10:42:00.000000000",
          "2011-01-17T15:17:00.000000000",
          "2011-01-19T11:51:00.000000000",
          "2011-01-20T10:47:00.000000000",
          "2011-01-20T10:48:00.000000000",
          "2011-01-23T15:17:00.000000000",
          "2011-01-24T15:32:00.000000000",
          "2011-01-28T09:20:00.000000000",
          "2011-01-28T10:45:00.000000000",
          "2011-01-28T13:37:00.000000000",
          "2011-01-31T09:57:00.000000000",
          "2011-01-31T15:36:00.000000000",
          "2011-02-01T14:58:00.000000000",
          "2011-02-02T09:06:00.000000000",
          "2011-02-02T15:22:00.000000000",
          "2011-02-04T11:45:00.000000000",
          "2011-02-08T13:28:00.000000000",
          "2011-02-09T10:11:00.000000000",
          "2011-02-10T15:38:00.000000000",
          "2011-02-15T14:17:00.000000000",
          "2011-02-16T11:45:00.000000000",
          "2011-02-17T10:08:00.000000000",
          "2011-02-18T10:53:00.000000000",
          "2011-02-18T15:23:00.000000000",
          "2011-02-21T08:38:00.000000000",
          "2011-02-21T14:58:00.000000000",
          "2011-02-23T16:44:00.000000000",
          "2011-02-23T16:45:00.000000000",
          "2011-02-27T11:58:00.000000000",
          "2011-02-28T11:43:00.000000000",
          "2011-02-28T11:58:00.000000000",
          "2011-02-28T14:42:00.000000000",
          "2011-02-28T14:45:00.000000000",
          "2011-03-01T10:31:00.000000000",
          "2011-03-01T12:26:00.000000000",
          "2011-03-03T12:06:00.000000000",
          "2011-03-03T12:20:00.000000000",
          "2011-03-04T09:08:00.000000000",
          "2011-03-11T12:00:00.000000000",
          "2011-03-13T14:55:00.000000000",
          "2011-03-14T11:38:00.000000000",
          "2011-03-15T16:39:00.000000000",
          "2011-03-16T14:37:00.000000000",
          "2011-03-16T15:17:00.000000000",
          "2011-03-20T15:58:00.000000000",
          "2011-03-21T12:42:00.000000000",
          "2011-03-21T12:44:00.000000000",
          "2011-03-22T11:28:00.000000000",
          "2011-03-23T12:06:00.000000000",
          "2011-03-23T13:33:00.000000000",
          "2011-03-23T13:39:00.000000000",
          "2011-03-23T14:55:00.000000000",
          "2011-03-25T10:19:00.000000000",
          "2011-03-27T13:07:00.000000000",
          "2011-03-28T10:15:00.000000000",
          "2011-03-31T10:27:00.000000000",
          "2011-03-31T10:29:00.000000000",
          "2011-03-31T13:40:00.000000000",
          "2011-04-01T09:19:00.000000000",
          "2011-04-01T11:10:00.000000000",
          "2011-04-04T11:18:00.000000000",
          "2011-04-07T13:07:00.000000000",
          "2011-04-14T14:15:00.000000000",
          "2011-04-17T11:21:00.000000000",
          "2011-04-17T15:33:00.000000000",
          "2011-04-20T09:20:00.000000000",
          "2011-04-21T08:54:00.000000000",
          "2011-04-21T10:16:00.000000000",
          "2011-04-26T15:52:00.000000000",
          "2011-04-28T11:45:00.000000000",
          "2011-05-03T08:40:00.000000000",
          "2011-05-03T09:33:00.000000000",
          "2011-05-03T09:34:00.000000000",
          "2011-05-03T12:02:00.000000000",
          "2011-05-03T12:03:00.000000000",
          "2011-05-05T09:29:00.000000000",
          "2011-05-08T16:10:00.000000000",
          "2011-05-09T09:47:00.000000000",
          "2011-05-09T15:12:00.000000000",
          "2011-05-10T12:55:00.000000000",
          "2011-05-11T13:20:00.000000000",
          "2011-05-11T15:07:00.000000000",
          "2011-05-12T11:50:00.000000000",
          "2011-05-13T09:24:00.000000000",
          "2011-05-13T13:15:00.000000000",
          "2011-05-13T15:48:00.000000000",
          "2011-05-15T13:45:00.000000000",
          "2011-05-16T09:10:00.000000000",
          "2011-05-16T12:04:00.000000000",
          "2011-05-17T09:28:00.000000000",
          "2011-05-18T09:09:00.000000000",
          "2011-05-18T10:34:00.000000000",
          "2011-05-18T12:18:00.000000000",
          "2011-05-19T12:10:00.000000000",
          "2011-05-19T12:29:00.000000000",
          "2011-05-20T11:34:00.000000000",
          "2011-05-22T13:01:00.000000000",
          "2011-05-22T14:33:00.000000000",
          "2011-05-23T09:48:00.000000000",
          "2011-05-24T09:25:00.000000000",
          "2011-05-25T10:08:00.000000000",
          "2011-05-25T12:44:00.000000000",
          "2011-05-25T12:54:00.000000000",
          "2011-05-26T14:53:00.000000000",
          "2011-05-26T17:16:00.000000000",
          "2011-05-27T13:49:00.000000000"
         ],
         "y": {
          "bdata": "ZwFxAQUBsQDoAWcATgB0AqgAQAJ4AHIAKwCDAPIBHwJOALgBBwF/AdMA6wF4AFQAOwCWAWYAUQbKAMUAnwDOAGMC1gAqAcQBYAAEA3IA7AIPAAABTQAIAWAARgDVADYBSAA2APUASQE6ARgAewBDAbcAuAA6AWEAPgCmAVUABQDGAIgAyQLyAIIABQE7AEoDsgOEAN8IWADwACUB7AAcAXcBGQDEABcAEwFUAJIAcAFeAQYAeADAAGIABQOiAEwBygFbA94CaQDKACEACwGMANwAOgDcAWcAmABIALIBfgDQAeUAPgAwAdAAtAC0AHYBVgCoAZsA",
          "dtype": "i2"
         }
        },
        {
         "marker": {
          "color": "mediumblue"
         },
         "mode": "lines",
         "name": "Total Revenue",
         "type": "scatter",
         "x": [
          "2011-01-05T12:42:00.000000000",
          "2011-01-05T14:48:00.000000000",
          "2011-01-06T14:26:00.000000000",
          "2011-01-06T16:12:00.000000000",
          "2011-01-07T12:07:00.000000000",
          "2011-01-07T13:13:00.000000000",
          "2011-01-09T12:46:00.000000000",
          "2011-01-10T13:22:00.000000000",
          "2011-01-11T07:57:00.000000000",
          "2011-01-11T11:48:00.000000000",
          "2011-01-11T13:31:00.000000000",
          "2011-01-11T15:00:00.000000000",
          "2011-01-12T09:43:00.000000000",
          "2011-01-12T14:13:00.000000000",
          "2011-01-12T15:00:00.000000000",
          "2011-01-14T09:13:00.000000000",
          "2011-01-14T09:20:00.000000000",
          "2011-01-14T10:42:00.000000000",
          "2011-01-17T15:17:00.000000000",
          "2011-01-19T11:51:00.000000000",
          "2011-01-20T10:47:00.000000000",
          "2011-01-20T10:48:00.000000000",
          "2011-01-23T15:17:00.000000000",
          "2011-01-24T15:32:00.000000000",
          "2011-01-28T09:20:00.000000000",
          "2011-01-28T10:45:00.000000000",
          "2011-01-28T13:37:00.000000000",
          "2011-01-31T09:57:00.000000000",
          "2011-01-31T15:36:00.000000000",
          "2011-02-01T14:58:00.000000000",
          "2011-02-02T09:06:00.000000000",
          "2011-02-02T15:22:00.000000000",
          "2011-02-04T11:45:00.000000000",
          "2011-02-08T13:28:00.000000000",
          "2011-02-09T10:11:00.000000000",
          "2011-02-10T15:38:00.000000000",
          "2011-02-15T14:17:00.000000000",
          "2011-02-16T11:45:00.000000000",
          "2011-02-17T10:08:00.000000000",
          "2011-02-18T10:53:00.000000000",
          "2011-02-18T15:23:00.000000000",
          "2011-02-21T08:38:00.000000000",
          "2011-02-21T14:58:00.000000000",
          "2011-02-23T16:44:00.000000000",
          "2011-02-23T16:45:00.000000000",
          "2011-02-27T11:58:00.000000000",
          "2011-02-28T11:43:00.000000000",
          "2011-02-28T11:58:00.000000000",
          "2011-02-28T14:42:00.000000000",
          "2011-02-28T14:45:00.000000000",
          "2011-03-01T10:31:00.000000000",
          "2011-03-01T12:26:00.000000000",
          "2011-03-03T12:06:00.000000000",
          "2011-03-03T12:20:00.000000000",
          "2011-03-04T09:08:00.000000000",
          "2011-03-11T12:00:00.000000000",
          "2011-03-13T14:55:00.000000000",
          "2011-03-14T11:38:00.000000000",
          "2011-03-15T16:39:00.000000000",
          "2011-03-16T14:37:00.000000000",
          "2011-03-16T15:17:00.000000000",
          "2011-03-20T15:58:00.000000000",
          "2011-03-21T12:42:00.000000000",
          "2011-03-21T12:44:00.000000000",
          "2011-03-22T11:28:00.000000000",
          "2011-03-23T12:06:00.000000000",
          "2011-03-23T13:33:00.000000000",
          "2011-03-23T13:39:00.000000000",
          "2011-03-23T14:55:00.000000000",
          "2011-03-25T10:19:00.000000000",
          "2011-03-27T13:07:00.000000000",
          "2011-03-28T10:15:00.000000000",
          "2011-03-31T10:27:00.000000000",
          "2011-03-31T10:29:00.000000000",
          "2011-03-31T13:40:00.000000000",
          "2011-04-01T09:19:00.000000000",
          "2011-04-01T11:10:00.000000000",
          "2011-04-04T11:18:00.000000000",
          "2011-04-07T13:07:00.000000000",
          "2011-04-14T14:15:00.000000000",
          "2011-04-17T11:21:00.000000000",
          "2011-04-17T15:33:00.000000000",
          "2011-04-20T09:20:00.000000000",
          "2011-04-21T08:54:00.000000000",
          "2011-04-21T10:16:00.000000000",
          "2011-04-26T15:52:00.000000000",
          "2011-04-28T11:45:00.000000000",
          "2011-05-03T08:40:00.000000000",
          "2011-05-03T09:33:00.000000000",
          "2011-05-03T09:34:00.000000000",
          "2011-05-03T12:02:00.000000000",
          "2011-05-03T12:03:00.000000000",
          "2011-05-05T09:29:00.000000000",
          "2011-05-08T16:10:00.000000000",
          "2011-05-09T09:47:00.000000000",
          "2011-05-09T15:12:00.000000000",
          "2011-05-10T12:55:00.000000000",
          "2011-05-11T13:20:00.000000000",
          "2011-05-11T15:07:00.000000000",
          "2011-05-12T11:50:00.000000000",
          "2011-05-13T09:24:00.000000000",
          "2011-05-13T13:15:00.000000000",
          "2011-05-13T15:48:00.000000000",
          "2011-05-15T13:45:00.000000000",
          "2011-05-16T09:10:00.000000000",
          "2011-05-16T12:04:00.000000000",
          "2011-05-17T09:28:00.000000000",
          "2011-05-18T09:09:00.000000000",
          "2011-05-18T10:34:00.000000000",
          "2011-05-18T12:18:00.000000000",
          "2011-05-19T12:10:00.000000000",
          "2011-05-19T12:29:00.000000000",
          "2011-05-20T11:34:00.000000000",
          "2011-05-22T13:01:00.000000000",
          "2011-05-22T14:33:00.000000000",
          "2011-05-23T09:48:00.000000000",
          "2011-05-24T09:25:00.000000000",
          "2011-05-25T10:08:00.000000000",
          "2011-05-25T12:44:00.000000000",
          "2011-05-25T12:54:00.000000000",
          "2011-05-26T14:53:00.000000000",
          "2011-05-26T17:16:00.000000000",
          "2011-05-27T13:49:00.000000000"
         ],
         "y": {
          "bdata": "hetRuB5hf0B7FK5H4diHQLgehetRvHFAAAAAAACUekDhehSuRyGFQHsUrkfhrnJAAAAAAACAXEAK16NwPWCRQAAAAAAAAGJAmZmZmZkZikDhehSuRxFrQM3MzMzMHGFAzMzMzMy8WUAzMzMzMyt1QKRwPQrXz4hA9ihcj8IxiEDNzMzMzDxsQBSuR+F6goJAhetRuB4RhEAAAAAAANaFQGZmZmZmLIJA16NwPQrZiUAAAAAAAGh5QGZmZmZmxmdAZmZmZmbOZkDhehSuR9l2QM3MzMzMXHlAj8L1KNzMqEBxPQrXo7h2QJmZmZmZjXxACtejcD1ufEAAAAAAAJBgQFK4HoXropFA61G4HoW7ZEC4HoXrURB5QClcj8L12HFAMzMzMzNza0DhehSuR+2JQAAAAAAAwGpAZmZmZmZyi0AzMzMzMzMZQI/C9Shc24JAmpmZmZlZX0AAAAAAAEBzQHE9Ctej8FdAZmZmZmYmV0B7FK5H4fZ0QHsUrkfhJoNA16NwPQrXZkAAAAAAANBjQDMzMzMzw3NAFK5H4XqQhkBdj8L1KAx+QGZmZmZmZjRAAAAAAACUcUDMzMzMzCaFQHA9CtejNHNAZ2ZmZmaWekBwPQrXo/h/QB6F61G4NmBA9ihcj8LFXEC4HoXrUaByQEjhehSuJ2lAhetRuB6FEkBI4XoUrl99QAAAAAAAEGRA16NwPQrvhkAAAAAAAKB3QGZmZmZmLnlAw/UoXI/+ckCamZmZmQFgQDMzMzMzEZBACtejcD1EnkBmZmZmZtZ5QPYoXI9CVqlAAAAAAABYYUAAAAAAAIBvQGZmZmZmDIBAMzMzMzODc0CamZmZmTmDQIXrUbge2X9AmpmZmZkpVUA0MzMzM1N9QAAAAAAAYFJAZmZmZmYYgkDiehSuRxFkQDQzMzMz42dA16NwPQqHgEAfhetRuGaDQGZmZmZm5jhAkML1KFxPZECkcD0K1wN1QAAAAAAAAGlAPgrXo3DDjkAAAAAAAHhyQM3MzMzMrGlAmZmZmZlRfEAfhetRuJWZQDMzMzMzlZVAFa5H4XpocUBI4XoUrr98QAAAAAAAUFZAFa5H4XrUeEDNzMzMzKxgQFK4HoXrNYFAuB6F61F4XkApXI/C9RyHQFyPwvUo8HRANDMzMzPDdEAVrkfhehRTQOF6FK5HjYFAmpmZmZnNc0AzMzMzM+ONQEjhehSuOYNAAAAAAAAwZUCPwvUoXB94QD0K16NwVXZApHA9CtfjbECPwvUoXG94QFK4HoXrFYBAAAAAAACQaEAAAAAAAKB2QD0K16Nw8XZA",
          "dtype": "f8"
         }
        }
       ],
       "layout": {
        "template": {
         "data": {
          "bar": [
           {
            "error_x": {
             "color": "#2a3f5f"
            },
            "error_y": {
             "color": "#2a3f5f"
            },
            "marker": {
             "line": {
              "color": "#E5ECF6",
              "width": 0.5
             },
             "pattern": {
              "fillmode": "overlay",
              "size": 10,
              "solidity": 0.2
             }
            },
            "type": "bar"
           }
          ],
          "barpolar": [
           {
            "marker": {
             "line": {
              "color": "#E5ECF6",
              "width": 0.5
             },
             "pattern": {
              "fillmode": "overlay",
              "size": 10,
              "solidity": 0.2
             }
            },
            "type": "barpolar"
           }
          ],
          "carpet": [
           {
            "aaxis": {
             "endlinecolor": "#2a3f5f",
             "gridcolor": "white",
             "linecolor": "white",
             "minorgridcolor": "white",
             "startlinecolor": "#2a3f5f"
            },
            "baxis": {
             "endlinecolor": "#2a3f5f",
             "gridcolor": "white",
             "linecolor": "white",
             "minorgridcolor": "white",
             "startlinecolor": "#2a3f5f"
            },
            "type": "carpet"
           }
          ],
          "choropleth": [
           {
            "colorbar": {
             "outlinewidth": 0,
             "ticks": ""
            },
            "type": "choropleth"
           }
          ],
          "contour": [
           {
            "colorbar": {
             "outlinewidth": 0,
             "ticks": ""
            },
            "colorscale": [
             [
              0,
              "#0d0887"
             ],
             [
              0.1111111111111111,
              "#46039f"
             ],
             [
              0.2222222222222222,
              "#7201a8"
             ],
             [
              0.3333333333333333,
              "#9c179e"
             ],
             [
              0.4444444444444444,
              "#bd3786"
             ],
             [
              0.5555555555555556,
              "#d8576b"
             ],
             [
              0.6666666666666666,
              "#ed7953"
             ],
             [
              0.7777777777777778,
              "#fb9f3a"
             ],
             [
              0.8888888888888888,
              "#fdca26"
             ],
             [
              1,
              "#f0f921"
             ]
            ],
            "type": "contour"
           }
          ],
          "contourcarpet": [
           {
            "colorbar": {
             "outlinewidth": 0,
             "ticks": ""
            },
            "type": "contourcarpet"
           }
          ],
          "heatmap": [
           {
            "colorbar": {
             "outlinewidth": 0,
             "ticks": ""
            },
            "colorscale": [
             [
              0,
              "#0d0887"
             ],
             [
              0.1111111111111111,
              "#46039f"
             ],
             [
              0.2222222222222222,
              "#7201a8"
             ],
             [
              0.3333333333333333,
              "#9c179e"
             ],
             [
              0.4444444444444444,
              "#bd3786"
             ],
             [
              0.5555555555555556,
              "#d8576b"
             ],
             [
              0.6666666666666666,
              "#ed7953"
             ],
             [
              0.7777777777777778,
              "#fb9f3a"
             ],
             [
              0.8888888888888888,
              "#fdca26"
             ],
             [
              1,
              "#f0f921"
             ]
            ],
            "type": "heatmap"
           }
          ],
          "histogram": [
           {
            "marker": {
             "pattern": {
              "fillmode": "overlay",
              "size": 10,
              "solidity": 0.2
             }
            },
            "type": "histogram"
           }
          ],
          "histogram2d": [
           {
            "colorbar": {
             "outlinewidth": 0,
             "ticks": ""
            },
            "colorscale": [
             [
              0,
              "#0d0887"
             ],
             [
              0.1111111111111111,
              "#46039f"
             ],
             [
              0.2222222222222222,
              "#7201a8"
             ],
             [
              0.3333333333333333,
              "#9c179e"
             ],
             [
              0.4444444444444444,
              "#bd3786"
             ],
             [
              0.5555555555555556,
              "#d8576b"
             ],
             [
              0.6666666666666666,
              "#ed7953"
             ],
             [
              0.7777777777777778,
              "#fb9f3a"
             ],
             [
              0.8888888888888888,
              "#fdca26"
             ],
             [
              1,
              "#f0f921"
             ]
            ],
            "type": "histogram2d"
           }
          ],
          "histogram2dcontour": [
           {
            "colorbar": {
             "outlinewidth": 0,
             "ticks": ""
            },
            "colorscale": [
             [
              0,
              "#0d0887"
             ],
             [
              0.1111111111111111,
              "#46039f"
             ],
             [
              0.2222222222222222,
              "#7201a8"
             ],
             [
              0.3333333333333333,
              "#9c179e"
             ],
             [
              0.4444444444444444,
              "#bd3786"
             ],
             [
              0.5555555555555556,
              "#d8576b"
             ],
             [
              0.6666666666666666,
              "#ed7953"
             ],
             [
              0.7777777777777778,
              "#fb9f3a"
             ],
             [
              0.8888888888888888,
              "#fdca26"
             ],
             [
              1,
              "#f0f921"
             ]
            ],
            "type": "histogram2dcontour"
           }
          ],
          "mesh3d": [
           {
            "colorbar": {
             "outlinewidth": 0,
             "ticks": ""
            },
            "type": "mesh3d"
           }
          ],
          "parcoords": [
           {
            "line": {
             "colorbar": {
              "outlinewidth": 0,
              "ticks": ""
             }
            },
            "type": "parcoords"
           }
          ],
          "pie": [
           {
            "automargin": true,
            "type": "pie"
           }
          ],
          "scatter": [
           {
            "fillpattern": {
             "fillmode": "overlay",
             "size": 10,
             "solidity": 0.2
            },
            "type": "scatter"
           }
          ],
          "scatter3d": [
           {
            "line": {
             "colorbar": {
              "outlinewidth": 0,
              "ticks": ""
             }
            },
            "marker": {
             "colorbar": {
              "outlinewidth": 0,
              "ticks": ""
             }
            },
            "type": "scatter3d"
           }
          ],
          "scattercarpet": [
           {
            "marker": {
             "colorbar": {
              "outlinewidth": 0,
              "ticks": ""
             }
            },
            "type": "scattercarpet"
           }
          ],
          "scattergeo": [
           {
            "marker": {
             "colorbar": {
              "outlinewidth": 0,
              "ticks": ""
             }
            },
            "type": "scattergeo"
           }
          ],
          "scattergl": [
           {
            "marker": {
             "colorbar": {
              "outlinewidth": 0,
              "ticks": ""
             }
            },
            "type": "scattergl"
           }
          ],
          "scattermap": [
           {
            "marker": {
             "colorbar": {
              "outlinewidth": 0,
              "ticks": ""
             }
            },
            "type": "scattermap"
           }
          ],
          "scattermapbox": [
           {
            "marker": {
             "colorbar": {
              "outlinewidth": 0,
              "ticks": ""
             }
            },
            "type": "scattermapbox"
           }
          ],
          "scatterpolar": [
           {
            "marker": {
             "colorbar": {
              "outlinewidth": 0,
              "ticks": ""
             }
            },
            "type": "scatterpolar"
           }
          ],
          "scatterpolargl": [
           {
            "marker": {
             "colorbar": {
              "outlinewidth": 0,
              "ticks": ""
             }
            },
            "type": "scatterpolargl"
           }
          ],
          "scatterternary": [
           {
            "marker": {
             "colorbar": {
              "outlinewidth": 0,
              "ticks": ""
             }
            },
            "type": "scatterternary"
           }
          ],
          "surface": [
           {
            "colorbar": {
             "outlinewidth": 0,
             "ticks": ""
            },
            "colorscale": [
             [
              0,
              "#0d0887"
             ],
             [
              0.1111111111111111,
              "#46039f"
             ],
             [
              0.2222222222222222,
              "#7201a8"
             ],
             [
              0.3333333333333333,
              "#9c179e"
             ],
             [
              0.4444444444444444,
              "#bd3786"
             ],
             [
              0.5555555555555556,
              "#d8576b"
             ],
             [
              0.6666666666666666,
              "#ed7953"
             ],
             [
              0.7777777777777778,
              "#fb9f3a"
             ],
             [
              0.8888888888888888,
              "#fdca26"
             ],
             [
              1,
              "#f0f921"
             ]
            ],
            "type": "surface"
           }
          ],
          "table": [
           {
            "cells": {
             "fill": {
              "color": "#EBF0F8"
             },
             "line": {
              "color": "white"
             }
            },
            "header": {
             "fill": {
              "color": "#C8D4E3"
             },
             "line": {
              "color": "white"
             }
            },
            "type": "table"
           }
          ]
         },
         "layout": {
          "annotationdefaults": {
           "arrowcolor": "#2a3f5f",
           "arrowhead": 0,
           "arrowwidth": 1
          },
          "autotypenumbers": "strict",
          "coloraxis": {
           "colorbar": {
            "outlinewidth": 0,
            "ticks": ""
           }
          },
          "colorscale": {
           "diverging": [
            [
             0,
             "#8e0152"
            ],
            [
             0.1,
             "#c51b7d"
            ],
            [
             0.2,
             "#de77ae"
            ],
            [
             0.3,
             "#f1b6da"
            ],
            [
             0.4,
             "#fde0ef"
            ],
            [
             0.5,
             "#f7f7f7"
            ],
            [
             0.6,
             "#e6f5d0"
            ],
            [
             0.7,
             "#b8e186"
            ],
            [
             0.8,
             "#7fbc41"
            ],
            [
             0.9,
             "#4d9221"
            ],
            [
             1,
             "#276419"
            ]
           ],
           "sequential": [
            [
             0,
             "#0d0887"
            ],
            [
             0.1111111111111111,
             "#46039f"
            ],
            [
             0.2222222222222222,
             "#7201a8"
            ],
            [
             0.3333333333333333,
             "#9c179e"
            ],
            [
             0.4444444444444444,
             "#bd3786"
            ],
            [
             0.5555555555555556,
             "#d8576b"
            ],
            [
             0.6666666666666666,
             "#ed7953"
            ],
            [
             0.7777777777777778,
             "#fb9f3a"
            ],
            [
             0.8888888888888888,
             "#fdca26"
            ],
            [
             1,
             "#f0f921"
            ]
           ],
           "sequentialminus": [
            [
             0,
             "#0d0887"
            ],
            [
             0.1111111111111111,
             "#46039f"
            ],
            [
             0.2222222222222222,
             "#7201a8"
            ],
            [
             0.3333333333333333,
             "#9c179e"
            ],
            [
             0.4444444444444444,
             "#bd3786"
            ],
            [
             0.5555555555555556,
             "#d8576b"
            ],
            [
             0.6666666666666666,
             "#ed7953"
            ],
            [
             0.7777777777777778,
             "#fb9f3a"
            ],
            [
             0.8888888888888888,
             "#fdca26"
            ],
            [
             1,
             "#f0f921"
            ]
           ]
          },
          "colorway": [
           "#636efa",
           "#EF553B",
           "#00cc96",
           "#ab63fa",
           "#FFA15A",
           "#19d3f3",
           "#FF6692",
           "#B6E880",
           "#FF97FF",
           "#FECB52"
          ],
          "font": {
           "color": "#2a3f5f"
          },
          "geo": {
           "bgcolor": "white",
           "lakecolor": "white",
           "landcolor": "#E5ECF6",
           "showlakes": true,
           "showland": true,
           "subunitcolor": "white"
          },
          "hoverlabel": {
           "align": "left"
          },
          "hovermode": "closest",
          "mapbox": {
           "style": "light"
          },
          "paper_bgcolor": "white",
          "plot_bgcolor": "#E5ECF6",
          "polar": {
           "angularaxis": {
            "gridcolor": "white",
            "linecolor": "white",
            "ticks": ""
           },
           "bgcolor": "#E5ECF6",
           "radialaxis": {
            "gridcolor": "white",
            "linecolor": "white",
            "ticks": ""
           }
          },
          "scene": {
           "xaxis": {
            "backgroundcolor": "#E5ECF6",
            "gridcolor": "white",
            "gridwidth": 2,
            "linecolor": "white",
            "showbackground": true,
            "ticks": "",
            "zerolinecolor": "white"
           },
           "yaxis": {
            "backgroundcolor": "#E5ECF6",
            "gridcolor": "white",
            "gridwidth": 2,
            "linecolor": "white",
            "showbackground": true,
            "ticks": "",
            "zerolinecolor": "white"
           },
           "zaxis": {
            "backgroundcolor": "#E5ECF6",
            "gridcolor": "white",
            "gridwidth": 2,
            "linecolor": "white",
            "showbackground": true,
            "ticks": "",
            "zerolinecolor": "white"
           }
          },
          "shapedefaults": {
           "line": {
            "color": "#2a3f5f"
           }
          },
          "ternary": {
           "aaxis": {
            "gridcolor": "white",
            "linecolor": "white",
            "ticks": ""
           },
           "baxis": {
            "gridcolor": "white",
            "linecolor": "white",
            "ticks": ""
           },
           "bgcolor": "#E5ECF6",
           "caxis": {
            "gridcolor": "white",
            "linecolor": "white",
            "ticks": ""
           }
          },
          "title": {
           "x": 0.05
          },
          "xaxis": {
           "automargin": true,
           "gridcolor": "white",
           "linecolor": "white",
           "ticks": "",
           "title": {
            "standoff": 15
           },
           "zerolinecolor": "white",
           "zerolinewidth": 2
          },
          "yaxis": {
           "automargin": true,
           "gridcolor": "white",
           "linecolor": "white",
           "ticks": "",
           "title": {
            "standoff": 15
           },
           "zerolinecolor": "white",
           "zerolinewidth": 2
          }
         }
        }
       }
      },
      "text/html": [
       "<div>            <script src=\"https://cdnjs.cloudflare.com/ajax/libs/mathjax/2.7.5/MathJax.js?config=TeX-AMS-MML_SVG\"></script><script type=\"text/javascript\">if (window.MathJax && window.MathJax.Hub && window.MathJax.Hub.Config) {window.MathJax.Hub.Config({SVG: {font: \"STIX-Web\"}});}</script>                <script type=\"text/javascript\">window.PlotlyConfig = {MathJaxConfig: 'local'};</script>\n",
       "        <script charset=\"utf-8\" src=\"https://cdn.plot.ly/plotly-3.1.0.min.js\" integrity=\"sha256-Ei4740bWZhaUTQuD6q9yQlgVCMPBz6CZWhevDYPv93A=\" crossorigin=\"anonymous\"></script>                <div id=\"e6434088-455c-4142-88a7-b5f4ce86e08f\" class=\"plotly-graph-div\" style=\"height:525px; width:100%;\"></div>            <script type=\"text/javascript\">                window.PLOTLYENV=window.PLOTLYENV || {};                                if (document.getElementById(\"e6434088-455c-4142-88a7-b5f4ce86e08f\")) {                    Plotly.newPlot(                        \"e6434088-455c-4142-88a7-b5f4ce86e08f\",                        [{\"marker\":{\"color\":\"indianred\"},\"mode\":\"lines\",\"name\":\"Total Quantity\",\"x\":[\"2011-01-05T12:42:00.000000000\",\"2011-01-05T14:48:00.000000000\",\"2011-01-06T14:26:00.000000000\",\"2011-01-06T16:12:00.000000000\",\"2011-01-07T12:07:00.000000000\",\"2011-01-07T13:13:00.000000000\",\"2011-01-09T12:46:00.000000000\",\"2011-01-10T13:22:00.000000000\",\"2011-01-11T07:57:00.000000000\",\"2011-01-11T11:48:00.000000000\",\"2011-01-11T13:31:00.000000000\",\"2011-01-11T15:00:00.000000000\",\"2011-01-12T09:43:00.000000000\",\"2011-01-12T14:13:00.000000000\",\"2011-01-12T15:00:00.000000000\",\"2011-01-14T09:13:00.000000000\",\"2011-01-14T09:20:00.000000000\",\"2011-01-14T10:42:00.000000000\",\"2011-01-17T15:17:00.000000000\",\"2011-01-19T11:51:00.000000000\",\"2011-01-20T10:47:00.000000000\",\"2011-01-20T10:48:00.000000000\",\"2011-01-23T15:17:00.000000000\",\"2011-01-24T15:32:00.000000000\",\"2011-01-28T09:20:00.000000000\",\"2011-01-28T10:45:00.000000000\",\"2011-01-28T13:37:00.000000000\",\"2011-01-31T09:57:00.000000000\",\"2011-01-31T15:36:00.000000000\",\"2011-02-01T14:58:00.000000000\",\"2011-02-02T09:06:00.000000000\",\"2011-02-02T15:22:00.000000000\",\"2011-02-04T11:45:00.000000000\",\"2011-02-08T13:28:00.000000000\",\"2011-02-09T10:11:00.000000000\",\"2011-02-10T15:38:00.000000000\",\"2011-02-15T14:17:00.000000000\",\"2011-02-16T11:45:00.000000000\",\"2011-02-17T10:08:00.000000000\",\"2011-02-18T10:53:00.000000000\",\"2011-02-18T15:23:00.000000000\",\"2011-02-21T08:38:00.000000000\",\"2011-02-21T14:58:00.000000000\",\"2011-02-23T16:44:00.000000000\",\"2011-02-23T16:45:00.000000000\",\"2011-02-27T11:58:00.000000000\",\"2011-02-28T11:43:00.000000000\",\"2011-02-28T11:58:00.000000000\",\"2011-02-28T14:42:00.000000000\",\"2011-02-28T14:45:00.000000000\",\"2011-03-01T10:31:00.000000000\",\"2011-03-01T12:26:00.000000000\",\"2011-03-03T12:06:00.000000000\",\"2011-03-03T12:20:00.000000000\",\"2011-03-04T09:08:00.000000000\",\"2011-03-11T12:00:00.000000000\",\"2011-03-13T14:55:00.000000000\",\"2011-03-14T11:38:00.000000000\",\"2011-03-15T16:39:00.000000000\",\"2011-03-16T14:37:00.000000000\",\"2011-03-16T15:17:00.000000000\",\"2011-03-20T15:58:00.000000000\",\"2011-03-21T12:42:00.000000000\",\"2011-03-21T12:44:00.000000000\",\"2011-03-22T11:28:00.000000000\",\"2011-03-23T12:06:00.000000000\",\"2011-03-23T13:33:00.000000000\",\"2011-03-23T13:39:00.000000000\",\"2011-03-23T14:55:00.000000000\",\"2011-03-25T10:19:00.000000000\",\"2011-03-27T13:07:00.000000000\",\"2011-03-28T10:15:00.000000000\",\"2011-03-31T10:27:00.000000000\",\"2011-03-31T10:29:00.000000000\",\"2011-03-31T13:40:00.000000000\",\"2011-04-01T09:19:00.000000000\",\"2011-04-01T11:10:00.000000000\",\"2011-04-04T11:18:00.000000000\",\"2011-04-07T13:07:00.000000000\",\"2011-04-14T14:15:00.000000000\",\"2011-04-17T11:21:00.000000000\",\"2011-04-17T15:33:00.000000000\",\"2011-04-20T09:20:00.000000000\",\"2011-04-21T08:54:00.000000000\",\"2011-04-21T10:16:00.000000000\",\"2011-04-26T15:52:00.000000000\",\"2011-04-28T11:45:00.000000000\",\"2011-05-03T08:40:00.000000000\",\"2011-05-03T09:33:00.000000000\",\"2011-05-03T09:34:00.000000000\",\"2011-05-03T12:02:00.000000000\",\"2011-05-03T12:03:00.000000000\",\"2011-05-05T09:29:00.000000000\",\"2011-05-08T16:10:00.000000000\",\"2011-05-09T09:47:00.000000000\",\"2011-05-09T15:12:00.000000000\",\"2011-05-10T12:55:00.000000000\",\"2011-05-11T13:20:00.000000000\",\"2011-05-11T15:07:00.000000000\",\"2011-05-12T11:50:00.000000000\",\"2011-05-13T09:24:00.000000000\",\"2011-05-13T13:15:00.000000000\",\"2011-05-13T15:48:00.000000000\",\"2011-05-15T13:45:00.000000000\",\"2011-05-16T09:10:00.000000000\",\"2011-05-16T12:04:00.000000000\",\"2011-05-17T09:28:00.000000000\",\"2011-05-18T09:09:00.000000000\",\"2011-05-18T10:34:00.000000000\",\"2011-05-18T12:18:00.000000000\",\"2011-05-19T12:10:00.000000000\",\"2011-05-19T12:29:00.000000000\",\"2011-05-20T11:34:00.000000000\",\"2011-05-22T13:01:00.000000000\",\"2011-05-22T14:33:00.000000000\",\"2011-05-23T09:48:00.000000000\",\"2011-05-24T09:25:00.000000000\",\"2011-05-25T10:08:00.000000000\",\"2011-05-25T12:44:00.000000000\",\"2011-05-25T12:54:00.000000000\",\"2011-05-26T14:53:00.000000000\",\"2011-05-26T17:16:00.000000000\",\"2011-05-27T13:49:00.000000000\"],\"y\":{\"dtype\":\"i2\",\"bdata\":\"ZwFxAQUBsQDoAWcATgB0AqgAQAJ4AHIAKwCDAPIBHwJOALgBBwF\\u002fAdMA6wF4AFQAOwCWAWYAUQbKAMUAnwDOAGMC1gAqAcQBYAAEA3IA7AIPAAABTQAIAWAARgDVADYBSAA2APUASQE6ARgAewBDAbcAuAA6AWEAPgCmAVUABQDGAIgAyQLyAIIABQE7AEoDsgOEAN8IWADwACUB7AAcAXcBGQDEABcAEwFUAJIAcAFeAQYAeADAAGIABQOiAEwBygFbA94CaQDKACEACwGMANwAOgDcAWcAmABIALIBfgDQAeUAPgAwAdAAtAC0AHYBVgCoAZsA\"},\"type\":\"scatter\"},{\"marker\":{\"color\":\"mediumblue\"},\"mode\":\"lines\",\"name\":\"Total Revenue\",\"x\":[\"2011-01-05T12:42:00.000000000\",\"2011-01-05T14:48:00.000000000\",\"2011-01-06T14:26:00.000000000\",\"2011-01-06T16:12:00.000000000\",\"2011-01-07T12:07:00.000000000\",\"2011-01-07T13:13:00.000000000\",\"2011-01-09T12:46:00.000000000\",\"2011-01-10T13:22:00.000000000\",\"2011-01-11T07:57:00.000000000\",\"2011-01-11T11:48:00.000000000\",\"2011-01-11T13:31:00.000000000\",\"2011-01-11T15:00:00.000000000\",\"2011-01-12T09:43:00.000000000\",\"2011-01-12T14:13:00.000000000\",\"2011-01-12T15:00:00.000000000\",\"2011-01-14T09:13:00.000000000\",\"2011-01-14T09:20:00.000000000\",\"2011-01-14T10:42:00.000000000\",\"2011-01-17T15:17:00.000000000\",\"2011-01-19T11:51:00.000000000\",\"2011-01-20T10:47:00.000000000\",\"2011-01-20T10:48:00.000000000\",\"2011-01-23T15:17:00.000000000\",\"2011-01-24T15:32:00.000000000\",\"2011-01-28T09:20:00.000000000\",\"2011-01-28T10:45:00.000000000\",\"2011-01-28T13:37:00.000000000\",\"2011-01-31T09:57:00.000000000\",\"2011-01-31T15:36:00.000000000\",\"2011-02-01T14:58:00.000000000\",\"2011-02-02T09:06:00.000000000\",\"2011-02-02T15:22:00.000000000\",\"2011-02-04T11:45:00.000000000\",\"2011-02-08T13:28:00.000000000\",\"2011-02-09T10:11:00.000000000\",\"2011-02-10T15:38:00.000000000\",\"2011-02-15T14:17:00.000000000\",\"2011-02-16T11:45:00.000000000\",\"2011-02-17T10:08:00.000000000\",\"2011-02-18T10:53:00.000000000\",\"2011-02-18T15:23:00.000000000\",\"2011-02-21T08:38:00.000000000\",\"2011-02-21T14:58:00.000000000\",\"2011-02-23T16:44:00.000000000\",\"2011-02-23T16:45:00.000000000\",\"2011-02-27T11:58:00.000000000\",\"2011-02-28T11:43:00.000000000\",\"2011-02-28T11:58:00.000000000\",\"2011-02-28T14:42:00.000000000\",\"2011-02-28T14:45:00.000000000\",\"2011-03-01T10:31:00.000000000\",\"2011-03-01T12:26:00.000000000\",\"2011-03-03T12:06:00.000000000\",\"2011-03-03T12:20:00.000000000\",\"2011-03-04T09:08:00.000000000\",\"2011-03-11T12:00:00.000000000\",\"2011-03-13T14:55:00.000000000\",\"2011-03-14T11:38:00.000000000\",\"2011-03-15T16:39:00.000000000\",\"2011-03-16T14:37:00.000000000\",\"2011-03-16T15:17:00.000000000\",\"2011-03-20T15:58:00.000000000\",\"2011-03-21T12:42:00.000000000\",\"2011-03-21T12:44:00.000000000\",\"2011-03-22T11:28:00.000000000\",\"2011-03-23T12:06:00.000000000\",\"2011-03-23T13:33:00.000000000\",\"2011-03-23T13:39:00.000000000\",\"2011-03-23T14:55:00.000000000\",\"2011-03-25T10:19:00.000000000\",\"2011-03-27T13:07:00.000000000\",\"2011-03-28T10:15:00.000000000\",\"2011-03-31T10:27:00.000000000\",\"2011-03-31T10:29:00.000000000\",\"2011-03-31T13:40:00.000000000\",\"2011-04-01T09:19:00.000000000\",\"2011-04-01T11:10:00.000000000\",\"2011-04-04T11:18:00.000000000\",\"2011-04-07T13:07:00.000000000\",\"2011-04-14T14:15:00.000000000\",\"2011-04-17T11:21:00.000000000\",\"2011-04-17T15:33:00.000000000\",\"2011-04-20T09:20:00.000000000\",\"2011-04-21T08:54:00.000000000\",\"2011-04-21T10:16:00.000000000\",\"2011-04-26T15:52:00.000000000\",\"2011-04-28T11:45:00.000000000\",\"2011-05-03T08:40:00.000000000\",\"2011-05-03T09:33:00.000000000\",\"2011-05-03T09:34:00.000000000\",\"2011-05-03T12:02:00.000000000\",\"2011-05-03T12:03:00.000000000\",\"2011-05-05T09:29:00.000000000\",\"2011-05-08T16:10:00.000000000\",\"2011-05-09T09:47:00.000000000\",\"2011-05-09T15:12:00.000000000\",\"2011-05-10T12:55:00.000000000\",\"2011-05-11T13:20:00.000000000\",\"2011-05-11T15:07:00.000000000\",\"2011-05-12T11:50:00.000000000\",\"2011-05-13T09:24:00.000000000\",\"2011-05-13T13:15:00.000000000\",\"2011-05-13T15:48:00.000000000\",\"2011-05-15T13:45:00.000000000\",\"2011-05-16T09:10:00.000000000\",\"2011-05-16T12:04:00.000000000\",\"2011-05-17T09:28:00.000000000\",\"2011-05-18T09:09:00.000000000\",\"2011-05-18T10:34:00.000000000\",\"2011-05-18T12:18:00.000000000\",\"2011-05-19T12:10:00.000000000\",\"2011-05-19T12:29:00.000000000\",\"2011-05-20T11:34:00.000000000\",\"2011-05-22T13:01:00.000000000\",\"2011-05-22T14:33:00.000000000\",\"2011-05-23T09:48:00.000000000\",\"2011-05-24T09:25:00.000000000\",\"2011-05-25T10:08:00.000000000\",\"2011-05-25T12:44:00.000000000\",\"2011-05-25T12:54:00.000000000\",\"2011-05-26T14:53:00.000000000\",\"2011-05-26T17:16:00.000000000\",\"2011-05-27T13:49:00.000000000\"],\"y\":{\"dtype\":\"f8\",\"bdata\":\"hetRuB5hf0B7FK5H4diHQLgehetRvHFAAAAAAACUekDhehSuRyGFQHsUrkfhrnJAAAAAAACAXEAK16NwPWCRQAAAAAAAAGJAmZmZmZkZikDhehSuRxFrQM3MzMzMHGFAzMzMzMy8WUAzMzMzMyt1QKRwPQrXz4hA9ihcj8IxiEDNzMzMzDxsQBSuR+F6goJAhetRuB4RhEAAAAAAANaFQGZmZmZmLIJA16NwPQrZiUAAAAAAAGh5QGZmZmZmxmdAZmZmZmbOZkDhehSuR9l2QM3MzMzMXHlAj8L1KNzMqEBxPQrXo7h2QJmZmZmZjXxACtejcD1ufEAAAAAAAJBgQFK4HoXropFA61G4HoW7ZEC4HoXrURB5QClcj8L12HFAMzMzMzNza0DhehSuR+2JQAAAAAAAwGpAZmZmZmZyi0AzMzMzMzMZQI\\u002fC9Shc24JAmpmZmZlZX0AAAAAAAEBzQHE9Ctej8FdAZmZmZmYmV0B7FK5H4fZ0QHsUrkfhJoNA16NwPQrXZkAAAAAAANBjQDMzMzMzw3NAFK5H4XqQhkBdj8L1KAx+QGZmZmZmZjRAAAAAAACUcUDMzMzMzCaFQHA9CtejNHNAZ2ZmZmaWekBwPQrXo\\u002fh\\u002fQB6F61G4NmBA9ihcj8LFXEC4HoXrUaByQEjhehSuJ2lAhetRuB6FEkBI4XoUrl99QAAAAAAAEGRA16NwPQrvhkAAAAAAAKB3QGZmZmZmLnlAw\\u002fUoXI\\u002f+ckCamZmZmQFgQDMzMzMzEZBACtejcD1EnkBmZmZmZtZ5QPYoXI9CVqlAAAAAAABYYUAAAAAAAIBvQGZmZmZmDIBAMzMzMzODc0CamZmZmTmDQIXrUbge2X9AmpmZmZkpVUA0MzMzM1N9QAAAAAAAYFJAZmZmZmYYgkDiehSuRxFkQDQzMzMz42dA16NwPQqHgEAfhetRuGaDQGZmZmZm5jhAkML1KFxPZECkcD0K1wN1QAAAAAAAAGlAPgrXo3DDjkAAAAAAAHhyQM3MzMzMrGlAmZmZmZlRfEAfhetRuJWZQDMzMzMzlZVAFa5H4XpocUBI4XoUrr98QAAAAAAAUFZAFa5H4XrUeEDNzMzMzKxgQFK4HoXrNYFAuB6F61F4XkApXI\\u002fC9RyHQFyPwvUo8HRANDMzMzPDdEAVrkfhehRTQOF6FK5HjYFAmpmZmZnNc0AzMzMzM+ONQEjhehSuOYNAAAAAAAAwZUCPwvUoXB94QD0K16NwVXZApHA9CtfjbECPwvUoXG94QFK4HoXrFYBAAAAAAACQaEAAAAAAAKB2QD0K16Nw8XZA\"},\"type\":\"scatter\"}],                        {\"template\":{\"data\":{\"histogram2dcontour\":[{\"type\":\"histogram2dcontour\",\"colorbar\":{\"outlinewidth\":0,\"ticks\":\"\"},\"colorscale\":[[0.0,\"#0d0887\"],[0.1111111111111111,\"#46039f\"],[0.2222222222222222,\"#7201a8\"],[0.3333333333333333,\"#9c179e\"],[0.4444444444444444,\"#bd3786\"],[0.5555555555555556,\"#d8576b\"],[0.6666666666666666,\"#ed7953\"],[0.7777777777777778,\"#fb9f3a\"],[0.8888888888888888,\"#fdca26\"],[1.0,\"#f0f921\"]]}],\"choropleth\":[{\"type\":\"choropleth\",\"colorbar\":{\"outlinewidth\":0,\"ticks\":\"\"}}],\"histogram2d\":[{\"type\":\"histogram2d\",\"colorbar\":{\"outlinewidth\":0,\"ticks\":\"\"},\"colorscale\":[[0.0,\"#0d0887\"],[0.1111111111111111,\"#46039f\"],[0.2222222222222222,\"#7201a8\"],[0.3333333333333333,\"#9c179e\"],[0.4444444444444444,\"#bd3786\"],[0.5555555555555556,\"#d8576b\"],[0.6666666666666666,\"#ed7953\"],[0.7777777777777778,\"#fb9f3a\"],[0.8888888888888888,\"#fdca26\"],[1.0,\"#f0f921\"]]}],\"heatmap\":[{\"type\":\"heatmap\",\"colorbar\":{\"outlinewidth\":0,\"ticks\":\"\"},\"colorscale\":[[0.0,\"#0d0887\"],[0.1111111111111111,\"#46039f\"],[0.2222222222222222,\"#7201a8\"],[0.3333333333333333,\"#9c179e\"],[0.4444444444444444,\"#bd3786\"],[0.5555555555555556,\"#d8576b\"],[0.6666666666666666,\"#ed7953\"],[0.7777777777777778,\"#fb9f3a\"],[0.8888888888888888,\"#fdca26\"],[1.0,\"#f0f921\"]]}],\"contourcarpet\":[{\"type\":\"contourcarpet\",\"colorbar\":{\"outlinewidth\":0,\"ticks\":\"\"}}],\"contour\":[{\"type\":\"contour\",\"colorbar\":{\"outlinewidth\":0,\"ticks\":\"\"},\"colorscale\":[[0.0,\"#0d0887\"],[0.1111111111111111,\"#46039f\"],[0.2222222222222222,\"#7201a8\"],[0.3333333333333333,\"#9c179e\"],[0.4444444444444444,\"#bd3786\"],[0.5555555555555556,\"#d8576b\"],[0.6666666666666666,\"#ed7953\"],[0.7777777777777778,\"#fb9f3a\"],[0.8888888888888888,\"#fdca26\"],[1.0,\"#f0f921\"]]}],\"surface\":[{\"type\":\"surface\",\"colorbar\":{\"outlinewidth\":0,\"ticks\":\"\"},\"colorscale\":[[0.0,\"#0d0887\"],[0.1111111111111111,\"#46039f\"],[0.2222222222222222,\"#7201a8\"],[0.3333333333333333,\"#9c179e\"],[0.4444444444444444,\"#bd3786\"],[0.5555555555555556,\"#d8576b\"],[0.6666666666666666,\"#ed7953\"],[0.7777777777777778,\"#fb9f3a\"],[0.8888888888888888,\"#fdca26\"],[1.0,\"#f0f921\"]]}],\"mesh3d\":[{\"type\":\"mesh3d\",\"colorbar\":{\"outlinewidth\":0,\"ticks\":\"\"}}],\"scatter\":[{\"fillpattern\":{\"fillmode\":\"overlay\",\"size\":10,\"solidity\":0.2},\"type\":\"scatter\"}],\"parcoords\":[{\"type\":\"parcoords\",\"line\":{\"colorbar\":{\"outlinewidth\":0,\"ticks\":\"\"}}}],\"scatterpolargl\":[{\"type\":\"scatterpolargl\",\"marker\":{\"colorbar\":{\"outlinewidth\":0,\"ticks\":\"\"}}}],\"bar\":[{\"error_x\":{\"color\":\"#2a3f5f\"},\"error_y\":{\"color\":\"#2a3f5f\"},\"marker\":{\"line\":{\"color\":\"#E5ECF6\",\"width\":0.5},\"pattern\":{\"fillmode\":\"overlay\",\"size\":10,\"solidity\":0.2}},\"type\":\"bar\"}],\"scattergeo\":[{\"type\":\"scattergeo\",\"marker\":{\"colorbar\":{\"outlinewidth\":0,\"ticks\":\"\"}}}],\"scatterpolar\":[{\"type\":\"scatterpolar\",\"marker\":{\"colorbar\":{\"outlinewidth\":0,\"ticks\":\"\"}}}],\"histogram\":[{\"marker\":{\"pattern\":{\"fillmode\":\"overlay\",\"size\":10,\"solidity\":0.2}},\"type\":\"histogram\"}],\"scattergl\":[{\"type\":\"scattergl\",\"marker\":{\"colorbar\":{\"outlinewidth\":0,\"ticks\":\"\"}}}],\"scatter3d\":[{\"type\":\"scatter3d\",\"line\":{\"colorbar\":{\"outlinewidth\":0,\"ticks\":\"\"}},\"marker\":{\"colorbar\":{\"outlinewidth\":0,\"ticks\":\"\"}}}],\"scattermap\":[{\"type\":\"scattermap\",\"marker\":{\"colorbar\":{\"outlinewidth\":0,\"ticks\":\"\"}}}],\"scattermapbox\":[{\"type\":\"scattermapbox\",\"marker\":{\"colorbar\":{\"outlinewidth\":0,\"ticks\":\"\"}}}],\"scatterternary\":[{\"type\":\"scatterternary\",\"marker\":{\"colorbar\":{\"outlinewidth\":0,\"ticks\":\"\"}}}],\"scattercarpet\":[{\"type\":\"scattercarpet\",\"marker\":{\"colorbar\":{\"outlinewidth\":0,\"ticks\":\"\"}}}],\"carpet\":[{\"aaxis\":{\"endlinecolor\":\"#2a3f5f\",\"gridcolor\":\"white\",\"linecolor\":\"white\",\"minorgridcolor\":\"white\",\"startlinecolor\":\"#2a3f5f\"},\"baxis\":{\"endlinecolor\":\"#2a3f5f\",\"gridcolor\":\"white\",\"linecolor\":\"white\",\"minorgridcolor\":\"white\",\"startlinecolor\":\"#2a3f5f\"},\"type\":\"carpet\"}],\"table\":[{\"cells\":{\"fill\":{\"color\":\"#EBF0F8\"},\"line\":{\"color\":\"white\"}},\"header\":{\"fill\":{\"color\":\"#C8D4E3\"},\"line\":{\"color\":\"white\"}},\"type\":\"table\"}],\"barpolar\":[{\"marker\":{\"line\":{\"color\":\"#E5ECF6\",\"width\":0.5},\"pattern\":{\"fillmode\":\"overlay\",\"size\":10,\"solidity\":0.2}},\"type\":\"barpolar\"}],\"pie\":[{\"automargin\":true,\"type\":\"pie\"}]},\"layout\":{\"autotypenumbers\":\"strict\",\"colorway\":[\"#636efa\",\"#EF553B\",\"#00cc96\",\"#ab63fa\",\"#FFA15A\",\"#19d3f3\",\"#FF6692\",\"#B6E880\",\"#FF97FF\",\"#FECB52\"],\"font\":{\"color\":\"#2a3f5f\"},\"hovermode\":\"closest\",\"hoverlabel\":{\"align\":\"left\"},\"paper_bgcolor\":\"white\",\"plot_bgcolor\":\"#E5ECF6\",\"polar\":{\"bgcolor\":\"#E5ECF6\",\"angularaxis\":{\"gridcolor\":\"white\",\"linecolor\":\"white\",\"ticks\":\"\"},\"radialaxis\":{\"gridcolor\":\"white\",\"linecolor\":\"white\",\"ticks\":\"\"}},\"ternary\":{\"bgcolor\":\"#E5ECF6\",\"aaxis\":{\"gridcolor\":\"white\",\"linecolor\":\"white\",\"ticks\":\"\"},\"baxis\":{\"gridcolor\":\"white\",\"linecolor\":\"white\",\"ticks\":\"\"},\"caxis\":{\"gridcolor\":\"white\",\"linecolor\":\"white\",\"ticks\":\"\"}},\"coloraxis\":{\"colorbar\":{\"outlinewidth\":0,\"ticks\":\"\"}},\"colorscale\":{\"sequential\":[[0.0,\"#0d0887\"],[0.1111111111111111,\"#46039f\"],[0.2222222222222222,\"#7201a8\"],[0.3333333333333333,\"#9c179e\"],[0.4444444444444444,\"#bd3786\"],[0.5555555555555556,\"#d8576b\"],[0.6666666666666666,\"#ed7953\"],[0.7777777777777778,\"#fb9f3a\"],[0.8888888888888888,\"#fdca26\"],[1.0,\"#f0f921\"]],\"sequentialminus\":[[0.0,\"#0d0887\"],[0.1111111111111111,\"#46039f\"],[0.2222222222222222,\"#7201a8\"],[0.3333333333333333,\"#9c179e\"],[0.4444444444444444,\"#bd3786\"],[0.5555555555555556,\"#d8576b\"],[0.6666666666666666,\"#ed7953\"],[0.7777777777777778,\"#fb9f3a\"],[0.8888888888888888,\"#fdca26\"],[1.0,\"#f0f921\"]],\"diverging\":[[0,\"#8e0152\"],[0.1,\"#c51b7d\"],[0.2,\"#de77ae\"],[0.3,\"#f1b6da\"],[0.4,\"#fde0ef\"],[0.5,\"#f7f7f7\"],[0.6,\"#e6f5d0\"],[0.7,\"#b8e186\"],[0.8,\"#7fbc41\"],[0.9,\"#4d9221\"],[1,\"#276419\"]]},\"xaxis\":{\"gridcolor\":\"white\",\"linecolor\":\"white\",\"ticks\":\"\",\"title\":{\"standoff\":15},\"zerolinecolor\":\"white\",\"automargin\":true,\"zerolinewidth\":2},\"yaxis\":{\"gridcolor\":\"white\",\"linecolor\":\"white\",\"ticks\":\"\",\"title\":{\"standoff\":15},\"zerolinecolor\":\"white\",\"automargin\":true,\"zerolinewidth\":2},\"scene\":{\"xaxis\":{\"backgroundcolor\":\"#E5ECF6\",\"gridcolor\":\"white\",\"linecolor\":\"white\",\"showbackground\":true,\"ticks\":\"\",\"zerolinecolor\":\"white\",\"gridwidth\":2},\"yaxis\":{\"backgroundcolor\":\"#E5ECF6\",\"gridcolor\":\"white\",\"linecolor\":\"white\",\"showbackground\":true,\"ticks\":\"\",\"zerolinecolor\":\"white\",\"gridwidth\":2},\"zaxis\":{\"backgroundcolor\":\"#E5ECF6\",\"gridcolor\":\"white\",\"linecolor\":\"white\",\"showbackground\":true,\"ticks\":\"\",\"zerolinecolor\":\"white\",\"gridwidth\":2}},\"shapedefaults\":{\"line\":{\"color\":\"#2a3f5f\"}},\"annotationdefaults\":{\"arrowcolor\":\"#2a3f5f\",\"arrowhead\":0,\"arrowwidth\":1},\"geo\":{\"bgcolor\":\"white\",\"landcolor\":\"#E5ECF6\",\"subunitcolor\":\"white\",\"showland\":true,\"showlakes\":true,\"lakecolor\":\"white\"},\"title\":{\"x\":0.05},\"mapbox\":{\"style\":\"light\"}}}},                        {\"responsive\": true}                    ).then(function(){\n",
       "                            \n",
       "var gd = document.getElementById('e6434088-455c-4142-88a7-b5f4ce86e08f');\n",
       "var x = new MutationObserver(function (mutations, observer) {{\n",
       "        var display = window.getComputedStyle(gd).display;\n",
       "        if (!display || display === 'none') {{\n",
       "            console.log([gd, 'removed!']);\n",
       "            Plotly.purge(gd);\n",
       "            observer.disconnect();\n",
       "        }}\n",
       "}});\n",
       "\n",
       "// Listen for the removal of the full notebook cells\n",
       "var notebookContainer = gd.closest('#notebook-container');\n",
       "if (notebookContainer) {{\n",
       "    x.observe(notebookContainer, {childList: true});\n",
       "}}\n",
       "\n",
       "// Listen for the clearing of the current output cell\n",
       "var outputEl = gd.closest('.output');\n",
       "if (outputEl) {{\n",
       "    x.observe(outputEl, {childList: true});\n",
       "}}\n",
       "\n",
       "                        })                };            </script>        </div>"
      ],
      "text/plain": [
       "Figure({\n",
       "    'data': [{'marker': {'color': 'indianred'},\n",
       "              'mode': 'lines',\n",
       "              'name': 'Total Quantity',\n",
       "              'type': 'scatter',\n",
       "              'x': array(['2011-01-05T12:42:00.000000000', '2011-01-05T14:48:00.000000000',\n",
       "                          '2011-01-06T14:26:00.000000000', '2011-01-06T16:12:00.000000000',\n",
       "                          '2011-01-07T12:07:00.000000000', '2011-01-07T13:13:00.000000000',\n",
       "                          '2011-01-09T12:46:00.000000000', '2011-01-10T13:22:00.000000000',\n",
       "                          '2011-01-11T07:57:00.000000000', '2011-01-11T11:48:00.000000000',\n",
       "                          '2011-01-11T13:31:00.000000000', '2011-01-11T15:00:00.000000000',\n",
       "                          '2011-01-12T09:43:00.000000000', '2011-01-12T14:13:00.000000000',\n",
       "                          '2011-01-12T15:00:00.000000000', '2011-01-14T09:13:00.000000000',\n",
       "                          '2011-01-14T09:20:00.000000000', '2011-01-14T10:42:00.000000000',\n",
       "                          '2011-01-17T15:17:00.000000000', '2011-01-19T11:51:00.000000000',\n",
       "                          '2011-01-20T10:47:00.000000000', '2011-01-20T10:48:00.000000000',\n",
       "                          '2011-01-23T15:17:00.000000000', '2011-01-24T15:32:00.000000000',\n",
       "                          '2011-01-28T09:20:00.000000000', '2011-01-28T10:45:00.000000000',\n",
       "                          '2011-01-28T13:37:00.000000000', '2011-01-31T09:57:00.000000000',\n",
       "                          '2011-01-31T15:36:00.000000000', '2011-02-01T14:58:00.000000000',\n",
       "                          '2011-02-02T09:06:00.000000000', '2011-02-02T15:22:00.000000000',\n",
       "                          '2011-02-04T11:45:00.000000000', '2011-02-08T13:28:00.000000000',\n",
       "                          '2011-02-09T10:11:00.000000000', '2011-02-10T15:38:00.000000000',\n",
       "                          '2011-02-15T14:17:00.000000000', '2011-02-16T11:45:00.000000000',\n",
       "                          '2011-02-17T10:08:00.000000000', '2011-02-18T10:53:00.000000000',\n",
       "                          '2011-02-18T15:23:00.000000000', '2011-02-21T08:38:00.000000000',\n",
       "                          '2011-02-21T14:58:00.000000000', '2011-02-23T16:44:00.000000000',\n",
       "                          '2011-02-23T16:45:00.000000000', '2011-02-27T11:58:00.000000000',\n",
       "                          '2011-02-28T11:43:00.000000000', '2011-02-28T11:58:00.000000000',\n",
       "                          '2011-02-28T14:42:00.000000000', '2011-02-28T14:45:00.000000000',\n",
       "                          '2011-03-01T10:31:00.000000000', '2011-03-01T12:26:00.000000000',\n",
       "                          '2011-03-03T12:06:00.000000000', '2011-03-03T12:20:00.000000000',\n",
       "                          '2011-03-04T09:08:00.000000000', '2011-03-11T12:00:00.000000000',\n",
       "                          '2011-03-13T14:55:00.000000000', '2011-03-14T11:38:00.000000000',\n",
       "                          '2011-03-15T16:39:00.000000000', '2011-03-16T14:37:00.000000000',\n",
       "                          '2011-03-16T15:17:00.000000000', '2011-03-20T15:58:00.000000000',\n",
       "                          '2011-03-21T12:42:00.000000000', '2011-03-21T12:44:00.000000000',\n",
       "                          '2011-03-22T11:28:00.000000000', '2011-03-23T12:06:00.000000000',\n",
       "                          '2011-03-23T13:33:00.000000000', '2011-03-23T13:39:00.000000000',\n",
       "                          '2011-03-23T14:55:00.000000000', '2011-03-25T10:19:00.000000000',\n",
       "                          '2011-03-27T13:07:00.000000000', '2011-03-28T10:15:00.000000000',\n",
       "                          '2011-03-31T10:27:00.000000000', '2011-03-31T10:29:00.000000000',\n",
       "                          '2011-03-31T13:40:00.000000000', '2011-04-01T09:19:00.000000000',\n",
       "                          '2011-04-01T11:10:00.000000000', '2011-04-04T11:18:00.000000000',\n",
       "                          '2011-04-07T13:07:00.000000000', '2011-04-14T14:15:00.000000000',\n",
       "                          '2011-04-17T11:21:00.000000000', '2011-04-17T15:33:00.000000000',\n",
       "                          '2011-04-20T09:20:00.000000000', '2011-04-21T08:54:00.000000000',\n",
       "                          '2011-04-21T10:16:00.000000000', '2011-04-26T15:52:00.000000000',\n",
       "                          '2011-04-28T11:45:00.000000000', '2011-05-03T08:40:00.000000000',\n",
       "                          '2011-05-03T09:33:00.000000000', '2011-05-03T09:34:00.000000000',\n",
       "                          '2011-05-03T12:02:00.000000000', '2011-05-03T12:03:00.000000000',\n",
       "                          '2011-05-05T09:29:00.000000000', '2011-05-08T16:10:00.000000000',\n",
       "                          '2011-05-09T09:47:00.000000000', '2011-05-09T15:12:00.000000000',\n",
       "                          '2011-05-10T12:55:00.000000000', '2011-05-11T13:20:00.000000000',\n",
       "                          '2011-05-11T15:07:00.000000000', '2011-05-12T11:50:00.000000000',\n",
       "                          '2011-05-13T09:24:00.000000000', '2011-05-13T13:15:00.000000000',\n",
       "                          '2011-05-13T15:48:00.000000000', '2011-05-15T13:45:00.000000000',\n",
       "                          '2011-05-16T09:10:00.000000000', '2011-05-16T12:04:00.000000000',\n",
       "                          '2011-05-17T09:28:00.000000000', '2011-05-18T09:09:00.000000000',\n",
       "                          '2011-05-18T10:34:00.000000000', '2011-05-18T12:18:00.000000000',\n",
       "                          '2011-05-19T12:10:00.000000000', '2011-05-19T12:29:00.000000000',\n",
       "                          '2011-05-20T11:34:00.000000000', '2011-05-22T13:01:00.000000000',\n",
       "                          '2011-05-22T14:33:00.000000000', '2011-05-23T09:48:00.000000000',\n",
       "                          '2011-05-24T09:25:00.000000000', '2011-05-25T10:08:00.000000000',\n",
       "                          '2011-05-25T12:44:00.000000000', '2011-05-25T12:54:00.000000000',\n",
       "                          '2011-05-26T14:53:00.000000000', '2011-05-26T17:16:00.000000000',\n",
       "                          '2011-05-27T13:49:00.000000000'], dtype='datetime64[ns]'),\n",
       "              'y': {'bdata': ('ZwFxAQUBsQDoAWcATgB0AqgAQAJ4AH' ... 'DQAeUAPgAwAdAAtAC0AHYBVgCoAZsA'),\n",
       "                    'dtype': 'i2'}},\n",
       "             {'marker': {'color': 'mediumblue'},\n",
       "              'mode': 'lines',\n",
       "              'name': 'Total Revenue',\n",
       "              'type': 'scatter',\n",
       "              'x': array(['2011-01-05T12:42:00.000000000', '2011-01-05T14:48:00.000000000',\n",
       "                          '2011-01-06T14:26:00.000000000', '2011-01-06T16:12:00.000000000',\n",
       "                          '2011-01-07T12:07:00.000000000', '2011-01-07T13:13:00.000000000',\n",
       "                          '2011-01-09T12:46:00.000000000', '2011-01-10T13:22:00.000000000',\n",
       "                          '2011-01-11T07:57:00.000000000', '2011-01-11T11:48:00.000000000',\n",
       "                          '2011-01-11T13:31:00.000000000', '2011-01-11T15:00:00.000000000',\n",
       "                          '2011-01-12T09:43:00.000000000', '2011-01-12T14:13:00.000000000',\n",
       "                          '2011-01-12T15:00:00.000000000', '2011-01-14T09:13:00.000000000',\n",
       "                          '2011-01-14T09:20:00.000000000', '2011-01-14T10:42:00.000000000',\n",
       "                          '2011-01-17T15:17:00.000000000', '2011-01-19T11:51:00.000000000',\n",
       "                          '2011-01-20T10:47:00.000000000', '2011-01-20T10:48:00.000000000',\n",
       "                          '2011-01-23T15:17:00.000000000', '2011-01-24T15:32:00.000000000',\n",
       "                          '2011-01-28T09:20:00.000000000', '2011-01-28T10:45:00.000000000',\n",
       "                          '2011-01-28T13:37:00.000000000', '2011-01-31T09:57:00.000000000',\n",
       "                          '2011-01-31T15:36:00.000000000', '2011-02-01T14:58:00.000000000',\n",
       "                          '2011-02-02T09:06:00.000000000', '2011-02-02T15:22:00.000000000',\n",
       "                          '2011-02-04T11:45:00.000000000', '2011-02-08T13:28:00.000000000',\n",
       "                          '2011-02-09T10:11:00.000000000', '2011-02-10T15:38:00.000000000',\n",
       "                          '2011-02-15T14:17:00.000000000', '2011-02-16T11:45:00.000000000',\n",
       "                          '2011-02-17T10:08:00.000000000', '2011-02-18T10:53:00.000000000',\n",
       "                          '2011-02-18T15:23:00.000000000', '2011-02-21T08:38:00.000000000',\n",
       "                          '2011-02-21T14:58:00.000000000', '2011-02-23T16:44:00.000000000',\n",
       "                          '2011-02-23T16:45:00.000000000', '2011-02-27T11:58:00.000000000',\n",
       "                          '2011-02-28T11:43:00.000000000', '2011-02-28T11:58:00.000000000',\n",
       "                          '2011-02-28T14:42:00.000000000', '2011-02-28T14:45:00.000000000',\n",
       "                          '2011-03-01T10:31:00.000000000', '2011-03-01T12:26:00.000000000',\n",
       "                          '2011-03-03T12:06:00.000000000', '2011-03-03T12:20:00.000000000',\n",
       "                          '2011-03-04T09:08:00.000000000', '2011-03-11T12:00:00.000000000',\n",
       "                          '2011-03-13T14:55:00.000000000', '2011-03-14T11:38:00.000000000',\n",
       "                          '2011-03-15T16:39:00.000000000', '2011-03-16T14:37:00.000000000',\n",
       "                          '2011-03-16T15:17:00.000000000', '2011-03-20T15:58:00.000000000',\n",
       "                          '2011-03-21T12:42:00.000000000', '2011-03-21T12:44:00.000000000',\n",
       "                          '2011-03-22T11:28:00.000000000', '2011-03-23T12:06:00.000000000',\n",
       "                          '2011-03-23T13:33:00.000000000', '2011-03-23T13:39:00.000000000',\n",
       "                          '2011-03-23T14:55:00.000000000', '2011-03-25T10:19:00.000000000',\n",
       "                          '2011-03-27T13:07:00.000000000', '2011-03-28T10:15:00.000000000',\n",
       "                          '2011-03-31T10:27:00.000000000', '2011-03-31T10:29:00.000000000',\n",
       "                          '2011-03-31T13:40:00.000000000', '2011-04-01T09:19:00.000000000',\n",
       "                          '2011-04-01T11:10:00.000000000', '2011-04-04T11:18:00.000000000',\n",
       "                          '2011-04-07T13:07:00.000000000', '2011-04-14T14:15:00.000000000',\n",
       "                          '2011-04-17T11:21:00.000000000', '2011-04-17T15:33:00.000000000',\n",
       "                          '2011-04-20T09:20:00.000000000', '2011-04-21T08:54:00.000000000',\n",
       "                          '2011-04-21T10:16:00.000000000', '2011-04-26T15:52:00.000000000',\n",
       "                          '2011-04-28T11:45:00.000000000', '2011-05-03T08:40:00.000000000',\n",
       "                          '2011-05-03T09:33:00.000000000', '2011-05-03T09:34:00.000000000',\n",
       "                          '2011-05-03T12:02:00.000000000', '2011-05-03T12:03:00.000000000',\n",
       "                          '2011-05-05T09:29:00.000000000', '2011-05-08T16:10:00.000000000',\n",
       "                          '2011-05-09T09:47:00.000000000', '2011-05-09T15:12:00.000000000',\n",
       "                          '2011-05-10T12:55:00.000000000', '2011-05-11T13:20:00.000000000',\n",
       "                          '2011-05-11T15:07:00.000000000', '2011-05-12T11:50:00.000000000',\n",
       "                          '2011-05-13T09:24:00.000000000', '2011-05-13T13:15:00.000000000',\n",
       "                          '2011-05-13T15:48:00.000000000', '2011-05-15T13:45:00.000000000',\n",
       "                          '2011-05-16T09:10:00.000000000', '2011-05-16T12:04:00.000000000',\n",
       "                          '2011-05-17T09:28:00.000000000', '2011-05-18T09:09:00.000000000',\n",
       "                          '2011-05-18T10:34:00.000000000', '2011-05-18T12:18:00.000000000',\n",
       "                          '2011-05-19T12:10:00.000000000', '2011-05-19T12:29:00.000000000',\n",
       "                          '2011-05-20T11:34:00.000000000', '2011-05-22T13:01:00.000000000',\n",
       "                          '2011-05-22T14:33:00.000000000', '2011-05-23T09:48:00.000000000',\n",
       "                          '2011-05-24T09:25:00.000000000', '2011-05-25T10:08:00.000000000',\n",
       "                          '2011-05-25T12:44:00.000000000', '2011-05-25T12:54:00.000000000',\n",
       "                          '2011-05-26T14:53:00.000000000', '2011-05-26T17:16:00.000000000',\n",
       "                          '2011-05-27T13:49:00.000000000'], dtype='datetime64[ns]'),\n",
       "              'y': {'bdata': ('hetRuB5hf0B7FK5H4diHQLgehetRvH' ... 'AAAACQaEAAAAAAAKB2QD0K16Nw8XZA'),\n",
       "                    'dtype': 'f8'}}],\n",
       "    'layout': {'template': '...'}\n",
       "})"
      ]
     },
     "execution_count": 36,
     "metadata": {},
     "output_type": "execute_result"
    }
   ],
   "source": [
    "data['InvoiceDate'] = pd.to_datetime(data['InvoiceDate'])\n",
    "\n",
    "filtered_data = data[\n",
    "    (data['Country'] == 'France') &\n",
    "    (data['InvoiceDate'] >= '2011-01-01') &\n",
    "    (data['InvoiceDate'] <= '2011-05-31')\n",
    "]\n",
    "\n",
    "# Group the filtered data by 'Country' and calculate the total Quantity and Revenue\n",
    "\n",
    "country_totals = filtered_data.groupby(\"InvoiceDate\", as_index=False)[[\"Quantity\", \"Revenue\"]].sum()\n",
    "\n",
    "# Display the resulting DataFrame\n",
    "print(country_totals)\n",
    "\n",
    "# Create a bar chart with Plotly Express\n",
    "fig2 = go.Figure()\n",
    "\n",
    "# Step 2: Add a trace for Total Quantity.\n",
    "fig2.add_trace(go.Scatter(\n",
    "    x=country_totals[\"InvoiceDate\"],\n",
    "    y=country_totals[\"Quantity\"],\n",
    "    mode='lines',\n",
    "    name='Total Quantity',\n",
    "    marker_color='indianred'\n",
    "))\n",
    "\n",
    "# Step 3: Add a trace for Total Revenue to the same figure.\n",
    "fig2.add_trace(go.Scatter(\n",
    "    x=country_totals[\"InvoiceDate\"],\n",
    "    y=country_totals[\"Revenue\"],\n",
    "    mode='lines',\n",
    "    name='Total Revenue',\n",
    "    marker_color='mediumblue'\n",
    "))\n"
   ]
  },
  {
   "cell_type": "markdown",
   "metadata": {},
   "source": [
    "## 3. Create an interactive scatter plot showing the relationship between average quantity (x-axis) and average unit price (y-axis) for the product PARTY BUNTING with the plot points color-coded by country (categories)."
   ]
  },
  {
   "cell_type": "code",
   "execution_count": null,
   "metadata": {},
   "outputs": [],
   "source": []
  },
  {
   "cell_type": "markdown",
   "metadata": {},
   "source": [
    "## 4. Create a set of interactive histograms showing the distributions of quantity per invoice for the following countries: EIRE, Germany, France, and Netherlands."
   ]
  },
  {
   "cell_type": "code",
   "execution_count": null,
   "metadata": {},
   "outputs": [],
   "source": []
  },
  {
   "cell_type": "markdown",
   "metadata": {},
   "source": [
    "## 5. Create an interactive side-by-side bar chart showing the revenue by country listed below (bars) for each of the products listed below."
   ]
  },
  {
   "cell_type": "code",
   "execution_count": null,
   "metadata": {},
   "outputs": [],
   "source": [
    "product_list = ['JUMBO BAG RED RETROSPOT', \n",
    "                'CREAM HANGING HEART T-LIGHT HOLDER',\n",
    "                'REGENCY CAKESTAND 3 TIER']\n",
    "\n",
    "country_list = ['EIRE', 'Germany', 'France', 'Netherlands']"
   ]
  },
  {
   "cell_type": "code",
   "execution_count": null,
   "metadata": {},
   "outputs": [],
   "source": []
  },
  {
   "cell_type": "markdown",
   "metadata": {},
   "source": [
    "## 6. Create an interactive line chart showing quantity sold by day for the United Kingdom. Add drop-down boxes for Year and Month that allow you to filter the date range that appears in the chart."
   ]
  },
  {
   "cell_type": "code",
   "execution_count": null,
   "metadata": {},
   "outputs": [],
   "source": [
    "data['Year'] = pd.DatetimeIndex(data['InvoiceDate']).year\n",
    "data['Month'] = pd.DatetimeIndex(data['InvoiceDate']).month\n",
    "data['Day'] = pd.DatetimeIndex(data['InvoiceDate']).day\n",
    "uk = data[data['Country']=='United Kingdom']"
   ]
  },
  {
   "cell_type": "code",
   "execution_count": null,
   "metadata": {},
   "outputs": [],
   "source": []
  },
  {
   "cell_type": "markdown",
   "metadata": {},
   "source": [
    "## 7. Create an interactive scatter plot that plots number of invoices (x-axis) vs. number of customers (y-axis) and the plot points represent individual products. Add two sliders that control the x and y axis ranges."
   ]
  },
  {
   "cell_type": "code",
   "execution_count": null,
   "metadata": {},
   "outputs": [],
   "source": [
    "agg_func = {'InvoiceNo':'nunique',\n",
    "            'Quantity':'sum',\n",
    "            'UnitPrice':'mean',\n",
    "            'Revenue':'sum',\n",
    "            'CustomerID':'nunique'}\n",
    "\n",
    "products = uk.groupby('Description').agg(agg_func)"
   ]
  },
  {
   "cell_type": "code",
   "execution_count": null,
   "metadata": {},
   "outputs": [],
   "source": []
  },
  {
   "cell_type": "markdown",
   "metadata": {},
   "source": [
    "## 8. Creat an interactive bar chart that shows revenue by product description. Add a text field widget that filters the results to show the product that contain the text entered in their description."
   ]
  },
  {
   "cell_type": "code",
   "execution_count": null,
   "metadata": {},
   "outputs": [],
   "source": []
  }
 ],
 "metadata": {
  "kernelspec": {
   "display_name": "lab-interactive-visualization",
   "language": "python",
   "name": "python3"
  },
  "language_info": {
   "codemirror_mode": {
    "name": "ipython",
    "version": 3
   },
   "file_extension": ".py",
   "mimetype": "text/x-python",
   "name": "python",
   "nbconvert_exporter": "python",
   "pygments_lexer": "ipython3",
   "version": "3.12.11"
  }
 },
 "nbformat": 4,
 "nbformat_minor": 2
}
